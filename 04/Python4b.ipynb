{
 "cells": [
  {
   "cell_type": "markdown",
   "metadata": {},
   "source": [
    "![](http://thecads.org/wp-content/uploads/2017/02/adax_logo.jpg)\n",
    "# Module 4: Data Manipulation and Analysis with Pandas\n",
    "\n",
    "![](http://pandas.pydata.org/_static/pandas_logo.png)\n",
    "[Pandas](http://pandas.pydata.org/) is a software library written for the Python programming language for data manipulation and analysis. In particular, it offers data structures and operations for manipulating numerical tables and time series. Pandas is free software released under the three-clause BSD license. The name is derived from the term _panel data_, an econometrics term for multidimensional structured data sets.\n",
    "\n",
    "#### Contents\n",
    "*[Continued from part 4a]*\n",
    "\n",
    "* [Analyzing Data](#Analyzing-Data)\n",
    "    * [Groupby](#Groupby) \n",
    "    * [MultiIndices](#MultiIndex)\n",
    "    * [Pivot Tables](#Pivot-Tables) like Excel!\n",
    "* [Example Analysis](#Example-Analysis)\n",
    "* [Presenting Data](#Presenting-Data)\n",
    "* [Summary](#Summary)\n",
    "\n",
    "* [Other Topics](#Other-Topics)\n",
    "    * [Merging DataFrames](#Merging-DataFrames)\n",
    "    * [Apply Method](#Apply-method)\n",
    "    * [Scales](#Scales)\n",
    "    * [Dates Functionality](#Date-Functionality-in-Pandas)"
   ]
  },
  {
   "cell_type": "code",
   "execution_count": 1,
   "metadata": {
    "collapsed": true
   },
   "outputs": [],
   "source": [
    "import pandas as pd\n",
    "import numpy as np\n",
    "import matplotlib.pyplot as plt"
   ]
  },
  {
   "cell_type": "markdown",
   "metadata": {},
   "source": [
    "## Analyzing Data\n",
    "\n",
    "The rest of this worksheet will use a single example, which contains data for customer counts per date at different store locations each week.  "
   ]
  },
  {
   "cell_type": "code",
   "execution_count": 33,
   "metadata": {
    "collapsed": true
   },
   "outputs": [],
   "source": [
    "# Function to generate test data\n",
    "def CreateDataSet(Number=1):\n",
    "    Output = []\n",
    "    for i in range(Number):\n",
    "        # Create a weekly (mondays) date range\n",
    "        rng = pd.date_range(start='1/1/2013', end='12/31/2016', freq='W-MON')\n",
    "        \n",
    "        # Create random data\n",
    "        data = np.random.randint(low=25,high=1000,size=len(rng))\n",
    "        \n",
    "        # Status pool\n",
    "        status = [1,2,3]\n",
    "        \n",
    "        # Make a random list of statuses\n",
    "        random_status = [status[np.random.randint(low=0,high=len(status))] for i in range(len(rng))]\n",
    "        \n",
    "        # State pool\n",
    "        location = ['Bangsar','Ampang','Petaling Jaya','Cheras']\n",
    "        \n",
    "        # Make a random list of states \n",
    "        random_location = [location[np.random.randint(low=0,high=len(location))] for i in range(len(rng))]\n",
    "\n",
    "        Output.extend(list(zip(random_location, random_status, data, rng)))\n",
    "        \n",
    "    return Output"
   ]
  },
  {
   "cell_type": "code",
   "execution_count": null,
   "metadata": {
    "collapsed": true
   },
   "outputs": [],
   "source": [
    "dataset = CreateDataSet(4)\n",
    "df = pd.DataFrame(data=dataset, columns=['location','Status','CustomerCount','StatusDate'])\n",
    "df.info()"
   ]
  },
  {
   "cell_type": "code",
   "execution_count": null,
   "metadata": {
    "collapsed": true
   },
   "outputs": [],
   "source": [
    "df.head()"
   ]
  },
  {
   "cell_type": "markdown",
   "metadata": {},
   "source": [
    "We are now going to save this dataframe into an Excel file, to then bring it back to a dataframe. We simply do this to practice reading and writing to Excel files.  \n",
    "\n",
    "We do not write the index values of the dataframe to the Excel file, since they are not meant to be part of our initial test data set."
   ]
  },
  {
   "cell_type": "code",
   "execution_count": null,
   "metadata": {
    "collapsed": true
   },
   "outputs": [],
   "source": [
    "# Save results to Excel\n",
    "df.to_excel('Customers.xlsx', index=False)\n",
    "print('Done')"
   ]
  },
  {
   "cell_type": "code",
   "execution_count": 19,
   "metadata": {
    "collapsed": false
   },
   "outputs": [
    {
     "data": {
      "text/plain": [
       "location         object\n",
       "Status            int64\n",
       "CustomerCount     int64\n",
       "dtype: object"
      ]
     },
     "execution_count": 19,
     "metadata": {},
     "output_type": "execute_result"
    }
   ],
   "source": [
    "# Location of file\n",
    "Location = r'Customers.xlsx'\n",
    "\n",
    "# Parse a specific sheet - look what we did here!\n",
    "df = pd.read_excel(Location, 0, index_col='StatusDate')\n",
    "df.dtypes"
   ]
  },
  {
   "cell_type": "code",
   "execution_count": 20,
   "metadata": {
    "collapsed": false
   },
   "outputs": [
    {
     "data": {
      "text/plain": [
       "DatetimeIndex(['2013-01-07', '2013-01-14', '2013-01-21', '2013-01-28',\n",
       "               '2013-02-04', '2013-02-11', '2013-02-18', '2013-02-25',\n",
       "               '2013-03-04', '2013-03-11',\n",
       "               ...\n",
       "               '2016-10-24', '2016-10-31', '2016-11-07', '2016-11-14',\n",
       "               '2016-11-21', '2016-11-28', '2016-12-05', '2016-12-12',\n",
       "               '2016-12-19', '2016-12-26'],\n",
       "              dtype='datetime64[ns]', name='StatusDate', length=832, freq=None)"
      ]
     },
     "execution_count": 20,
     "metadata": {},
     "output_type": "execute_result"
    }
   ],
   "source": [
    "# Return the index of df\n",
    "df.index"
   ]
  },
  {
   "cell_type": "code",
   "execution_count": 4,
   "metadata": {
    "collapsed": false
   },
   "outputs": [
    {
     "data": {
      "text/html": [
       "<div>\n",
       "<table border=\"1\" class=\"dataframe\">\n",
       "  <thead>\n",
       "    <tr style=\"text-align: right;\">\n",
       "      <th></th>\n",
       "      <th>location</th>\n",
       "      <th>Status</th>\n",
       "      <th>CustomerCount</th>\n",
       "    </tr>\n",
       "    <tr>\n",
       "      <th>StatusDate</th>\n",
       "      <th></th>\n",
       "      <th></th>\n",
       "      <th></th>\n",
       "    </tr>\n",
       "  </thead>\n",
       "  <tbody>\n",
       "    <tr>\n",
       "      <th>2013-01-07</th>\n",
       "      <td>Cheras</td>\n",
       "      <td>3</td>\n",
       "      <td>450</td>\n",
       "    </tr>\n",
       "    <tr>\n",
       "      <th>2013-01-14</th>\n",
       "      <td>Ampang</td>\n",
       "      <td>1</td>\n",
       "      <td>602</td>\n",
       "    </tr>\n",
       "    <tr>\n",
       "      <th>2013-01-21</th>\n",
       "      <td>Petaling Jaya</td>\n",
       "      <td>1</td>\n",
       "      <td>860</td>\n",
       "    </tr>\n",
       "    <tr>\n",
       "      <th>2013-01-28</th>\n",
       "      <td>Ampang</td>\n",
       "      <td>2</td>\n",
       "      <td>852</td>\n",
       "    </tr>\n",
       "    <tr>\n",
       "      <th>2013-02-04</th>\n",
       "      <td>Petaling Jaya</td>\n",
       "      <td>1</td>\n",
       "      <td>893</td>\n",
       "    </tr>\n",
       "  </tbody>\n",
       "</table>\n",
       "</div>"
      ],
      "text/plain": [
       "                 location  Status  CustomerCount\n",
       "StatusDate                                      \n",
       "2013-01-07         Cheras       3            450\n",
       "2013-01-14         Ampang       1            602\n",
       "2013-01-21  Petaling Jaya       1            860\n",
       "2013-01-28         Ampang       2            852\n",
       "2013-02-04  Petaling Jaya       1            893"
      ]
     },
     "execution_count": 4,
     "metadata": {},
     "output_type": "execute_result"
    }
   ],
   "source": [
    "df.head()"
   ]
  },
  {
   "cell_type": "code",
   "execution_count": 5,
   "metadata": {
    "collapsed": false
   },
   "outputs": [
    {
     "data": {
      "text/plain": [
       "(241, 3)"
      ]
     },
     "execution_count": 5,
     "metadata": {},
     "output_type": "execute_result"
    }
   ],
   "source": [
    "# Let's pretend that status == only includes the people who \n",
    "# bought something. \n",
    "mask = df['Status'] == 1\n",
    "df = df[mask]\n",
    "df.shape"
   ]
  },
  {
   "cell_type": "markdown",
   "metadata": {},
   "source": [
    "At this point we may want to graph the data to check for any outliers or inconsistencies in the data. We will be using the ***plot()*** attribute of the dataframe.  \n",
    "\n",
    "As you can see from the graph below it is not very conclusive and is probably a sign that we need to perform some more data preparation."
   ]
  },
  {
   "cell_type": "code",
   "execution_count": 9,
   "metadata": {
    "collapsed": false
   },
   "outputs": [
    {
     "data": {
      "image/png": "[encoded data removed]",
      "text/plain": [
       "<matplotlib.figure.Figure at 0x13dd968bd30>"
      ]
     },
     "metadata": {},
     "output_type": "display_data"
    }
   ],
   "source": [
    "df['CustomerCount'].plot(figsize=(15,5))\n",
    "plt.show()"
   ]
  },
  {
   "cell_type": "markdown",
   "metadata": {},
   "source": [
    "If we take a look at the data, we begin to realize that there are multiple values for the same location, StatusDate, and Status combination. It is possible that this means the data you are working with is dirty/bad/inaccurate, but we will assume otherwise. We can assume this data set is a subset of a bigger data set and if we simply add the values in the ***CustomerCount*** column per location, StatusDate, and Status we will get the ***Total Customer Count*** per day.  "
   ]
  },
  {
   "cell_type": "code",
   "execution_count": null,
   "metadata": {
    "collapsed": true
   },
   "outputs": [],
   "source": [
    "sortdf = df[df['location']=='Bangsar'].sort_index(axis=0)\n",
    "sortdf.head(10)"
   ]
  },
  {
   "cell_type": "markdown",
   "metadata": {},
   "source": [
    "### Groupby\n",
    "Our task is now to create a new dataframe that compresses the data so we have daily customer counts per location and StatusDate. We can ignore the Status column since the values in this column are of value *1*. To accomplish this we will use the dataframe's functions ***groupby*** and ***sum()***.  \n",
    "\n",
    "Note that we are using **reset_index** . If we did not, we would not have been able to group by both the location and the StatusDate since the groupby function expects only columns as inputs. The **reset_index** function will bring the index ***StatusDate*** back to a column in the dataframe. "
   ]
  },
  {
   "cell_type": "code",
   "execution_count": 25,
   "metadata": {
    "collapsed": false
   },
   "outputs": [
    {
     "data": {
      "text/html": [
       "<div>\n",
       "<table border=\"1\" class=\"dataframe\">\n",
       "  <thead>\n",
       "    <tr style=\"text-align: right;\">\n",
       "      <th></th>\n",
       "      <th></th>\n",
       "      <th>Status</th>\n",
       "      <th>CustomerCount</th>\n",
       "    </tr>\n",
       "    <tr>\n",
       "      <th>location</th>\n",
       "      <th>StatusDate</th>\n",
       "      <th></th>\n",
       "      <th></th>\n",
       "    </tr>\n",
       "  </thead>\n",
       "  <tbody>\n",
       "    <tr>\n",
       "      <th rowspan=\"20\" valign=\"top\">Ampang</th>\n",
       "      <th>2013-01-07</th>\n",
       "      <td>5</td>\n",
       "      <td>1722</td>\n",
       "    </tr>\n",
       "    <tr>\n",
       "      <th>2013-01-14</th>\n",
       "      <td>3</td>\n",
       "      <td>909</td>\n",
       "    </tr>\n",
       "    <tr>\n",
       "      <th>2013-01-28</th>\n",
       "      <td>6</td>\n",
       "      <td>1946</td>\n",
       "    </tr>\n",
       "    <tr>\n",
       "      <th>2013-02-04</th>\n",
       "      <td>3</td>\n",
       "      <td>612</td>\n",
       "    </tr>\n",
       "    <tr>\n",
       "      <th>2013-02-11</th>\n",
       "      <td>4</td>\n",
       "      <td>1416</td>\n",
       "    </tr>\n",
       "    <tr>\n",
       "      <th>2013-02-18</th>\n",
       "      <td>2</td>\n",
       "      <td>420</td>\n",
       "    </tr>\n",
       "    <tr>\n",
       "      <th>2013-02-25</th>\n",
       "      <td>5</td>\n",
       "      <td>2595</td>\n",
       "    </tr>\n",
       "    <tr>\n",
       "      <th>2013-03-04</th>\n",
       "      <td>4</td>\n",
       "      <td>1309</td>\n",
       "    </tr>\n",
       "    <tr>\n",
       "      <th>2013-03-11</th>\n",
       "      <td>3</td>\n",
       "      <td>682</td>\n",
       "    </tr>\n",
       "    <tr>\n",
       "      <th>2013-03-18</th>\n",
       "      <td>3</td>\n",
       "      <td>466</td>\n",
       "    </tr>\n",
       "    <tr>\n",
       "      <th>2013-03-25</th>\n",
       "      <td>3</td>\n",
       "      <td>363</td>\n",
       "    </tr>\n",
       "    <tr>\n",
       "      <th>2013-04-08</th>\n",
       "      <td>4</td>\n",
       "      <td>1609</td>\n",
       "    </tr>\n",
       "    <tr>\n",
       "      <th>2013-04-22</th>\n",
       "      <td>3</td>\n",
       "      <td>718</td>\n",
       "    </tr>\n",
       "    <tr>\n",
       "      <th>2013-04-29</th>\n",
       "      <td>7</td>\n",
       "      <td>1555</td>\n",
       "    </tr>\n",
       "    <tr>\n",
       "      <th>2013-05-06</th>\n",
       "      <td>2</td>\n",
       "      <td>661</td>\n",
       "    </tr>\n",
       "    <tr>\n",
       "      <th>2013-05-13</th>\n",
       "      <td>1</td>\n",
       "      <td>984</td>\n",
       "    </tr>\n",
       "    <tr>\n",
       "      <th>2013-05-20</th>\n",
       "      <td>2</td>\n",
       "      <td>307</td>\n",
       "    </tr>\n",
       "    <tr>\n",
       "      <th>2013-05-27</th>\n",
       "      <td>4</td>\n",
       "      <td>341</td>\n",
       "    </tr>\n",
       "    <tr>\n",
       "      <th>2013-06-03</th>\n",
       "      <td>1</td>\n",
       "      <td>675</td>\n",
       "    </tr>\n",
       "    <tr>\n",
       "      <th>2013-06-10</th>\n",
       "      <td>3</td>\n",
       "      <td>403</td>\n",
       "    </tr>\n",
       "  </tbody>\n",
       "</table>\n",
       "</div>"
      ],
      "text/plain": [
       "                     Status  CustomerCount\n",
       "location StatusDate                       \n",
       "Ampang   2013-01-07       5           1722\n",
       "         2013-01-14       3            909\n",
       "         2013-01-28       6           1946\n",
       "         2013-02-04       3            612\n",
       "         2013-02-11       4           1416\n",
       "         2013-02-18       2            420\n",
       "         2013-02-25       5           2595\n",
       "         2013-03-04       4           1309\n",
       "         2013-03-11       3            682\n",
       "         2013-03-18       3            466\n",
       "         2013-03-25       3            363\n",
       "         2013-04-08       4           1609\n",
       "         2013-04-22       3            718\n",
       "         2013-04-29       7           1555\n",
       "         2013-05-06       2            661\n",
       "         2013-05-13       1            984\n",
       "         2013-05-20       2            307\n",
       "         2013-05-27       4            341\n",
       "         2013-06-03       1            675\n",
       "         2013-06-10       3            403"
      ]
     },
     "execution_count": 25,
     "metadata": {},
     "output_type": "execute_result"
    }
   ],
   "source": [
    "# Group by State and StatusDate\n",
    "Daily = df.reset_index().groupby(['location','StatusDate']).sum()\n",
    "Daily.head(20)"
   ]
  },
  {
   "cell_type": "markdown",
   "metadata": {},
   "source": [
    "The ***location*** and ***StatusDate*** columns are automatically placed in the index of the ***Daily*** dataframe. You can think of the ***index*** as the primary key of a database table but without the constraint of having unique values. Columns in the index as you will see allow us to easily select, plot, and perform calculations on the data.  \n",
    "\n",
    "Below is how we can delete the ***Status*** column."
   ]
  },
  {
   "cell_type": "code",
   "execution_count": 26,
   "metadata": {
    "collapsed": false
   },
   "outputs": [
    {
     "data": {
      "text/html": [
       "<div>\n",
       "<table border=\"1\" class=\"dataframe\">\n",
       "  <thead>\n",
       "    <tr style=\"text-align: right;\">\n",
       "      <th></th>\n",
       "      <th></th>\n",
       "      <th>CustomerCount</th>\n",
       "    </tr>\n",
       "    <tr>\n",
       "      <th>location</th>\n",
       "      <th>StatusDate</th>\n",
       "      <th></th>\n",
       "    </tr>\n",
       "  </thead>\n",
       "  <tbody>\n",
       "    <tr>\n",
       "      <th rowspan=\"5\" valign=\"top\">Ampang</th>\n",
       "      <th>2013-01-07</th>\n",
       "      <td>1722</td>\n",
       "    </tr>\n",
       "    <tr>\n",
       "      <th>2013-01-14</th>\n",
       "      <td>909</td>\n",
       "    </tr>\n",
       "    <tr>\n",
       "      <th>2013-01-28</th>\n",
       "      <td>1946</td>\n",
       "    </tr>\n",
       "    <tr>\n",
       "      <th>2013-02-04</th>\n",
       "      <td>612</td>\n",
       "    </tr>\n",
       "    <tr>\n",
       "      <th>2013-02-11</th>\n",
       "      <td>1416</td>\n",
       "    </tr>\n",
       "  </tbody>\n",
       "</table>\n",
       "</div>"
      ],
      "text/plain": [
       "                     CustomerCount\n",
       "location StatusDate               \n",
       "Ampang   2013-01-07           1722\n",
       "         2013-01-14            909\n",
       "         2013-01-28           1946\n",
       "         2013-02-04            612\n",
       "         2013-02-11           1416"
      ]
     },
     "execution_count": 26,
     "metadata": {},
     "output_type": "execute_result"
    }
   ],
   "source": [
    "del Daily['Status']\n",
    "Daily.head()"
   ]
  },
  {
   "cell_type": "code",
   "execution_count": null,
   "metadata": {
    "collapsed": true
   },
   "outputs": [],
   "source": [
    "# Try another groupby!"
   ]
  },
  {
   "cell_type": "markdown",
   "metadata": {},
   "source": [
    "### MultiIndex"
   ]
  },
  {
   "cell_type": "code",
   "execution_count": 27,
   "metadata": {
    "collapsed": false
   },
   "outputs": [
    {
     "data": {
      "text/plain": [
       "MultiIndex(levels=[['Ampang', 'Bangsar', 'Cheras', 'Petaling Jaya'], [2013-01-07 00:00:00, 2013-01-14 00:00:00, 2013-01-21 00:00:00, 2013-01-28 00:00:00, 2013-02-04 00:00:00, 2013-02-11 00:00:00, 2013-02-18 00:00:00, 2013-02-25 00:00:00, 2013-03-04 00:00:00, 2013-03-11 00:00:00, 2013-03-18 00:00:00, 2013-03-25 00:00:00, 2013-04-01 00:00:00, 2013-04-08 00:00:00, 2013-04-15 00:00:00, 2013-04-22 00:00:00, 2013-04-29 00:00:00, 2013-05-06 00:00:00, 2013-05-13 00:00:00, 2013-05-20 00:00:00, 2013-05-27 00:00:00, 2013-06-03 00:00:00, 2013-06-10 00:00:00, 2013-06-17 00:00:00, 2013-06-24 00:00:00, 2013-07-01 00:00:00, 2013-07-08 00:00:00, 2013-07-15 00:00:00, 2013-07-22 00:00:00, 2013-07-29 00:00:00, 2013-08-05 00:00:00, 2013-08-12 00:00:00, 2013-08-19 00:00:00, 2013-08-26 00:00:00, 2013-09-02 00:00:00, 2013-09-09 00:00:00, 2013-09-16 00:00:00, 2013-09-23 00:00:00, 2013-09-30 00:00:00, 2013-10-07 00:00:00, 2013-10-14 00:00:00, 2013-10-21 00:00:00, 2013-10-28 00:00:00, 2013-11-04 00:00:00, 2013-11-11 00:00:00, 2013-11-18 00:00:00, 2013-11-25 00:00:00, 2013-12-02 00:00:00, 2013-12-09 00:00:00, 2013-12-16 00:00:00, 2013-12-23 00:00:00, 2013-12-30 00:00:00, 2014-01-06 00:00:00, 2014-01-13 00:00:00, 2014-01-20 00:00:00, 2014-01-27 00:00:00, 2014-02-03 00:00:00, 2014-02-10 00:00:00, 2014-02-17 00:00:00, 2014-02-24 00:00:00, 2014-03-03 00:00:00, 2014-03-10 00:00:00, 2014-03-17 00:00:00, 2014-03-24 00:00:00, 2014-03-31 00:00:00, 2014-04-07 00:00:00, 2014-04-14 00:00:00, 2014-04-21 00:00:00, 2014-04-28 00:00:00, 2014-05-05 00:00:00, 2014-05-12 00:00:00, 2014-05-19 00:00:00, 2014-05-26 00:00:00, 2014-06-02 00:00:00, 2014-06-09 00:00:00, 2014-06-16 00:00:00, 2014-06-23 00:00:00, 2014-06-30 00:00:00, 2014-07-07 00:00:00, 2014-07-14 00:00:00, 2014-07-21 00:00:00, 2014-07-28 00:00:00, 2014-08-04 00:00:00, 2014-08-11 00:00:00, 2014-08-18 00:00:00, 2014-08-25 00:00:00, 2014-09-01 00:00:00, 2014-09-08 00:00:00, 2014-09-15 00:00:00, 2014-09-22 00:00:00, 2014-09-29 00:00:00, 2014-10-06 00:00:00, 2014-10-13 00:00:00, 2014-10-20 00:00:00, 2014-10-27 00:00:00, 2014-11-03 00:00:00, 2014-11-10 00:00:00, 2014-11-17 00:00:00, 2014-11-24 00:00:00, 2014-12-01 00:00:00, 2014-12-08 00:00:00, 2014-12-15 00:00:00, 2014-12-22 00:00:00, 2014-12-29 00:00:00, 2015-01-05 00:00:00, 2015-01-12 00:00:00, 2015-01-19 00:00:00, 2015-01-26 00:00:00, 2015-02-02 00:00:00, 2015-02-09 00:00:00, 2015-02-16 00:00:00, 2015-02-23 00:00:00, 2015-03-02 00:00:00, 2015-03-09 00:00:00, 2015-03-16 00:00:00, 2015-03-23 00:00:00, 2015-03-30 00:00:00, 2015-04-06 00:00:00, 2015-04-13 00:00:00, 2015-04-20 00:00:00, 2015-04-27 00:00:00, 2015-05-04 00:00:00, 2015-05-11 00:00:00, 2015-05-18 00:00:00, 2015-05-25 00:00:00, 2015-06-01 00:00:00, 2015-06-08 00:00:00, 2015-06-15 00:00:00, 2015-06-22 00:00:00, 2015-06-29 00:00:00, 2015-07-06 00:00:00, 2015-07-13 00:00:00, 2015-07-20 00:00:00, 2015-07-27 00:00:00, 2015-08-03 00:00:00, 2015-08-10 00:00:00, 2015-08-17 00:00:00, 2015-08-24 00:00:00, 2015-08-31 00:00:00, 2015-09-07 00:00:00, 2015-09-14 00:00:00, 2015-09-21 00:00:00, 2015-09-28 00:00:00, 2015-10-05 00:00:00, 2015-10-12 00:00:00, 2015-10-19 00:00:00, 2015-10-26 00:00:00, 2015-11-02 00:00:00, 2015-11-09 00:00:00, 2015-11-16 00:00:00, 2015-11-23 00:00:00, 2015-11-30 00:00:00, 2015-12-07 00:00:00, 2015-12-14 00:00:00, 2015-12-21 00:00:00, 2015-12-28 00:00:00, 2016-01-04 00:00:00, 2016-01-11 00:00:00, 2016-01-18 00:00:00, 2016-01-25 00:00:00, 2016-02-01 00:00:00, 2016-02-08 00:00:00, 2016-02-15 00:00:00, 2016-02-22 00:00:00, 2016-02-29 00:00:00, 2016-03-07 00:00:00, 2016-03-14 00:00:00, 2016-03-21 00:00:00, 2016-03-28 00:00:00, 2016-04-04 00:00:00, 2016-04-11 00:00:00, 2016-04-18 00:00:00, 2016-04-25 00:00:00, 2016-05-02 00:00:00, 2016-05-09 00:00:00, 2016-05-16 00:00:00, 2016-05-23 00:00:00, 2016-05-30 00:00:00, 2016-06-06 00:00:00, 2016-06-13 00:00:00, 2016-06-20 00:00:00, 2016-06-27 00:00:00, 2016-07-04 00:00:00, 2016-07-11 00:00:00, 2016-07-18 00:00:00, 2016-07-25 00:00:00, 2016-08-01 00:00:00, 2016-08-08 00:00:00, 2016-08-15 00:00:00, 2016-08-22 00:00:00, 2016-08-29 00:00:00, 2016-09-05 00:00:00, 2016-09-12 00:00:00, 2016-09-19 00:00:00, 2016-09-26 00:00:00, 2016-10-03 00:00:00, 2016-10-10 00:00:00, 2016-10-17 00:00:00, 2016-10-24 00:00:00, 2016-10-31 00:00:00, 2016-11-07 00:00:00, 2016-11-14 00:00:00, 2016-11-21 00:00:00, 2016-11-28 00:00:00, 2016-12-05 00:00:00, 2016-12-12 00:00:00, 2016-12-19 00:00:00, 2016-12-26 00:00:00]],\n",
       "           labels=[[0, 0, 0, 0, 0, 0, 0, 0, 0, 0, 0, 0, 0, 0, 0, 0, 0, 0, 0, 0, 0, 0, 0, 0, 0, 0, 0, 0, 0, 0, 0, 0, 0, 0, 0, 0, 0, 0, 0, 0, 0, 0, 0, 0, 0, 0, 0, 0, 0, 0, 0, 0, 0, 0, 0, 0, 0, 0, 0, 0, 0, 0, 0, 0, 0, 0, 0, 0, 0, 0, 0, 0, 0, 0, 0, 0, 0, 0, 0, 0, 0, 0, 0, 0, 0, 0, 0, 0, 0, 0, 0, 0, 0, 0, 0, 0, 0, 0, 0, 0, 0, 0, 0, 0, 0, 0, 0, 0, 0, 0, 0, 0, 0, 0, 0, 0, 0, 0, 0, 0, 0, 0, 0, 0, 0, 0, 0, 0, 0, 0, 0, 0, 0, 0, 0, 0, 0, 0, 0, 0, 0, 0, 0, 0, 0, 0, 0, 0, 0, 1, 1, 1, 1, 1, 1, 1, 1, 1, 1, 1, 1, 1, 1, 1, 1, 1, 1, 1, 1, 1, 1, 1, 1, 1, 1, 1, 1, 1, 1, 1, 1, 1, 1, 1, 1, 1, 1, 1, 1, 1, 1, 1, 1, 1, 1, 1, 1, 1, 1, 1, 1, 1, 1, 1, 1, 1, 1, 1, 1, 1, 1, 1, 1, 1, 1, 1, 1, 1, 1, 1, 1, 1, 1, 1, 1, 1, 1, 1, 1, 1, 1, 1, 1, 1, 1, 1, 1, 1, 1, 1, 1, 1, 1, 1, 1, 1, 1, 1, 1, 1, 1, 1, 1, 1, 1, 1, 1, 1, 1, 1, 1, 1, 1, 1, 1, 1, 1, 1, 1, 1, 1, 1, 1, 1, 1, 1, 1, 1, 1, 1, 1, 1, 1, 1, 1, 2, 2, 2, 2, 2, 2, 2, 2, 2, 2, 2, 2, 2, 2, 2, 2, 2, 2, 2, 2, 2, 2, 2, 2, 2, 2, 2, 2, 2, 2, 2, 2, 2, 2, 2, 2, 2, 2, 2, 2, 2, 2, 2, 2, 2, 2, 2, 2, 2, 2, 2, 2, 2, 2, 2, 2, 2, 2, 2, 2, 2, 2, 2, 2, 2, 2, 2, 2, 2, 2, 2, 2, 2, 2, 2, 2, 2, 2, 2, 2, 2, 2, 2, 2, 2, 2, 2, 2, 2, 2, 2, 2, 2, 2, 2, 2, 2, 2, 2, 2, 2, 2, 2, 2, 2, 2, 2, 2, 2, 2, 2, 2, 2, 2, 2, 2, 2, 2, 2, 2, 2, 2, 2, 2, 2, 2, 2, 2, 2, 2, 2, 2, 2, 2, 2, 2, 2, 2, 2, 3, 3, 3, 3, 3, 3, 3, 3, 3, 3, 3, 3, 3, 3, 3, 3, 3, 3, 3, 3, 3, 3, 3, 3, 3, 3, 3, 3, 3, 3, 3, 3, 3, 3, 3, 3, 3, 3, 3, 3, 3, 3, 3, 3, 3, 3, 3, 3, 3, 3, 3, 3, 3, 3, 3, 3, 3, 3, 3, 3, 3, 3, 3, 3, 3, 3, 3, 3, 3, 3, 3, 3, 3, 3, 3, 3, 3, 3, 3, 3, 3, 3, 3, 3, 3, 3, 3, 3, 3, 3, 3, 3, 3, 3, 3, 3, 3, 3, 3, 3, 3, 3, 3, 3, 3, 3, 3, 3, 3, 3, 3, 3, 3, 3, 3, 3, 3, 3, 3, 3, 3, 3, 3, 3, 3, 3, 3, 3, 3, 3, 3, 3, 3, 3, 3, 3, 3, 3, 3, 3, 3, 3, 3, 3, 3], [0, 1, 3, 4, 5, 6, 7, 8, 9, 10, 11, 13, 15, 16, 17, 18, 19, 20, 21, 22, 23, 24, 25, 26, 28, 29, 30, 31, 34, 38, 39, 40, 41, 44, 45, 47, 49, 50, 51, 52, 54, 55, 57, 58, 59, 60, 63, 65, 66, 67, 68, 69, 70, 72, 73, 75, 76, 77, 78, 79, 80, 81, 82, 83, 85, 86, 87, 90, 92, 93, 94, 95, 96, 98, 99, 100, 101, 102, 105, 106, 107, 108, 111, 112, 113, 116, 117, 119, 120, 121, 122, 123, 124, 125, 127, 128, 129, 130, 131, 132, 133, 134, 138, 139, 140, 141, 143, 144, 146, 147, 148, 149, 150, 153, 157, 159, 160, 161, 162, 163, 165, 166, 167, 168, 169, 170, 173, 175, 176, 177, 178, 179, 184, 186, 187, 188, 190, 192, 193, 195, 196, 197, 199, 200, 201, 202, 203, 204, 207, 1, 2, 9, 11, 12, 14, 15, 18, 19, 21, 22, 24, 25, 26, 27, 28, 29, 32, 33, 35, 36, 39, 40, 41, 42, 43, 44, 45, 46, 47, 49, 51, 53, 54, 55, 56, 57, 58, 60, 61, 62, 66, 67, 69, 71, 74, 75, 77, 78, 79, 80, 81, 83, 84, 85, 86, 87, 88, 89, 91, 92, 94, 95, 96, 97, 100, 103, 105, 106, 107, 108, 109, 110, 111, 113, 114, 115, 116, 117, 118, 119, 120, 123, 126, 128, 129, 130, 132, 135, 136, 137, 138, 141, 143, 144, 147, 148, 150, 151, 153, 154, 155, 156, 157, 158, 159, 161, 162, 163, 164, 165, 167, 169, 170, 171, 175, 176, 177, 180, 181, 184, 185, 189, 190, 191, 192, 193, 194, 198, 199, 200, 201, 202, 205, 206, 207, 0, 2, 4, 5, 6, 8, 9, 10, 11, 12, 13, 14, 15, 17, 18, 20, 23, 24, 27, 29, 30, 31, 32, 33, 34, 35, 37, 39, 42, 43, 46, 48, 49, 50, 51, 52, 53, 55, 56, 58, 59, 61, 62, 63, 64, 65, 68, 69, 71, 72, 73, 74, 75, 81, 82, 83, 84, 87, 89, 90, 91, 92, 93, 94, 95, 97, 98, 99, 101, 102, 103, 104, 105, 108, 111, 115, 117, 118, 119, 120, 121, 122, 123, 124, 125, 126, 128, 129, 131, 132, 133, 134, 137, 140, 141, 142, 143, 145, 146, 148, 149, 150, 152, 155, 156, 157, 158, 159, 160, 161, 162, 163, 164, 165, 166, 168, 169, 171, 172, 173, 174, 179, 180, 182, 183, 185, 187, 188, 190, 193, 194, 196, 197, 201, 203, 204, 205, 206, 207, 1, 2, 3, 4, 7, 9, 10, 11, 14, 16, 17, 19, 20, 21, 23, 25, 26, 27, 29, 30, 31, 32, 33, 35, 36, 37, 38, 39, 40, 41, 42, 43, 44, 45, 46, 48, 49, 50, 52, 54, 55, 56, 57, 59, 60, 61, 62, 63, 64, 65, 66, 68, 70, 71, 74, 76, 77, 80, 82, 83, 84, 85, 88, 89, 90, 91, 93, 94, 98, 99, 100, 101, 103, 104, 107, 108, 109, 110, 112, 115, 116, 117, 118, 121, 122, 123, 124, 126, 127, 129, 130, 131, 132, 133, 134, 135, 136, 139, 140, 141, 142, 144, 145, 146, 147, 148, 149, 151, 152, 153, 154, 155, 156, 158, 159, 160, 161, 166, 167, 170, 171, 172, 173, 174, 176, 177, 178, 180, 181, 182, 183, 184, 185, 186, 188, 189, 190, 191, 195, 198, 199, 202, 205, 206, 207]],\n",
       "           names=['location', 'StatusDate'])"
      ]
     },
     "execution_count": 27,
     "metadata": {},
     "output_type": "execute_result"
    }
   ],
   "source": [
    "# What is the index of the Daily dataframe\n",
    "Daily.index"
   ]
  },
  {
   "cell_type": "code",
   "execution_count": 31,
   "metadata": {
    "collapsed": false
   },
   "outputs": [
    {
     "data": {
      "text/plain": [
       "Index(['Ampang', 'Bangsar', 'Cheras', 'Petaling Jaya'], dtype='object', name='location')"
      ]
     },
     "execution_count": 31,
     "metadata": {},
     "output_type": "execute_result"
    }
   ],
   "source": [
    "# Select the location index\n",
    "Daily.index.levels[0]"
   ]
  },
  {
   "cell_type": "markdown",
   "metadata": {},
   "source": [
    "### Pivot Tables\n",
    "\n",
    "Are easy! and are akin to Excel."
   ]
  },
  {
   "cell_type": "code",
   "execution_count": 34,
   "metadata": {
    "collapsed": false
   },
   "outputs": [
    {
     "name": "stdout",
     "output_type": "stream",
     "text": [
      "<class 'pandas.core.frame.DataFrame'>\n",
      "RangeIndex: 832 entries, 0 to 831\n",
      "Data columns (total 4 columns):\n",
      "location         832 non-null object\n",
      "Status           832 non-null int64\n",
      "CustomerCount    832 non-null int64\n",
      "StatusDate       832 non-null datetime64[ns]\n",
      "dtypes: datetime64[ns](1), int64(2), object(1)\n",
      "memory usage: 26.1+ KB\n"
     ]
    }
   ],
   "source": [
    "# Let's Create the data set again.\n",
    "dataset = CreateDataSet(4)\n",
    "df = pd.DataFrame(data=dataset, columns=['location','Status','CustomerCount','StatusDate'])\n",
    "df.info()"
   ]
  },
  {
   "cell_type": "code",
   "execution_count": 35,
   "metadata": {
    "collapsed": false
   },
   "outputs": [
    {
     "data": {
      "text/html": [
       "<div>\n",
       "<table border=\"1\" class=\"dataframe\">\n",
       "  <thead>\n",
       "    <tr style=\"text-align: right;\">\n",
       "      <th></th>\n",
       "      <th>location</th>\n",
       "      <th>Ampang</th>\n",
       "      <th>Bangsar</th>\n",
       "      <th>Cheras</th>\n",
       "      <th>Petaling Jaya</th>\n",
       "    </tr>\n",
       "    <tr>\n",
       "      <th>StatusDate</th>\n",
       "      <th>Status</th>\n",
       "      <th></th>\n",
       "      <th></th>\n",
       "      <th></th>\n",
       "      <th></th>\n",
       "    </tr>\n",
       "  </thead>\n",
       "  <tbody>\n",
       "    <tr>\n",
       "      <th rowspan=\"3\" valign=\"top\">2013-01-07</th>\n",
       "      <th>1</th>\n",
       "      <td>201.0</td>\n",
       "      <td>NaN</td>\n",
       "      <td>NaN</td>\n",
       "      <td>NaN</td>\n",
       "    </tr>\n",
       "    <tr>\n",
       "      <th>2</th>\n",
       "      <td>NaN</td>\n",
       "      <td>NaN</td>\n",
       "      <td>69.0</td>\n",
       "      <td>413.0</td>\n",
       "    </tr>\n",
       "    <tr>\n",
       "      <th>3</th>\n",
       "      <td>NaN</td>\n",
       "      <td>143.0</td>\n",
       "      <td>NaN</td>\n",
       "      <td>NaN</td>\n",
       "    </tr>\n",
       "    <tr>\n",
       "      <th rowspan=\"2\" valign=\"top\">2013-01-14</th>\n",
       "      <th>2</th>\n",
       "      <td>NaN</td>\n",
       "      <td>287.0</td>\n",
       "      <td>NaN</td>\n",
       "      <td>558.0</td>\n",
       "    </tr>\n",
       "    <tr>\n",
       "      <th>3</th>\n",
       "      <td>871.0</td>\n",
       "      <td>NaN</td>\n",
       "      <td>NaN</td>\n",
       "      <td>961.0</td>\n",
       "    </tr>\n",
       "  </tbody>\n",
       "</table>\n",
       "</div>"
      ],
      "text/plain": [
       "location           Ampang  Bangsar  Cheras  Petaling Jaya\n",
       "StatusDate Status                                        \n",
       "2013-01-07 1        201.0      NaN     NaN            NaN\n",
       "           2          NaN      NaN    69.0          413.0\n",
       "           3          NaN    143.0     NaN            NaN\n",
       "2013-01-14 2          NaN    287.0     NaN          558.0\n",
       "           3        871.0      NaN     NaN          961.0"
      ]
     },
     "execution_count": 35,
     "metadata": {},
     "output_type": "execute_result"
    }
   ],
   "source": [
    "pd.pivot_table(df, values = 'CustomerCount', \n",
    "               index = ['StatusDate','Status'],\n",
    "               columns = ['location']).head()"
   ]
  },
  {
   "cell_type": "code",
   "execution_count": 36,
   "metadata": {
    "collapsed": false
   },
   "outputs": [
    {
     "data": {
      "text/html": [
       "<div>\n",
       "<table border=\"1\" class=\"dataframe\">\n",
       "  <thead>\n",
       "    <tr style=\"text-align: right;\">\n",
       "      <th></th>\n",
       "      <th>Status</th>\n",
       "      <th>1</th>\n",
       "      <th>2</th>\n",
       "      <th>3</th>\n",
       "    </tr>\n",
       "    <tr>\n",
       "      <th>StatusDate</th>\n",
       "      <th>location</th>\n",
       "      <th></th>\n",
       "      <th></th>\n",
       "      <th></th>\n",
       "    </tr>\n",
       "  </thead>\n",
       "  <tbody>\n",
       "    <tr>\n",
       "      <th rowspan=\"4\" valign=\"top\">2013-01-07</th>\n",
       "      <th>Ampang</th>\n",
       "      <td>201.0</td>\n",
       "      <td>NaN</td>\n",
       "      <td>NaN</td>\n",
       "    </tr>\n",
       "    <tr>\n",
       "      <th>Bangsar</th>\n",
       "      <td>NaN</td>\n",
       "      <td>NaN</td>\n",
       "      <td>143.0</td>\n",
       "    </tr>\n",
       "    <tr>\n",
       "      <th>Cheras</th>\n",
       "      <td>NaN</td>\n",
       "      <td>69.0</td>\n",
       "      <td>NaN</td>\n",
       "    </tr>\n",
       "    <tr>\n",
       "      <th>Petaling Jaya</th>\n",
       "      <td>NaN</td>\n",
       "      <td>413.0</td>\n",
       "      <td>NaN</td>\n",
       "    </tr>\n",
       "    <tr>\n",
       "      <th>2013-01-14</th>\n",
       "      <th>Ampang</th>\n",
       "      <td>NaN</td>\n",
       "      <td>NaN</td>\n",
       "      <td>871.0</td>\n",
       "    </tr>\n",
       "  </tbody>\n",
       "</table>\n",
       "</div>"
      ],
      "text/plain": [
       "Status                        1      2      3\n",
       "StatusDate location                          \n",
       "2013-01-07 Ampang         201.0    NaN    NaN\n",
       "           Bangsar          NaN    NaN  143.0\n",
       "           Cheras           NaN   69.0    NaN\n",
       "           Petaling Jaya    NaN  413.0    NaN\n",
       "2013-01-14 Ampang           NaN    NaN  871.0"
      ]
     },
     "execution_count": 36,
     "metadata": {},
     "output_type": "execute_result"
    }
   ],
   "source": [
    "pd.pivot_table(df, values = 'CustomerCount', \n",
    "               index = ['StatusDate','location'],\n",
    "               columns = ['Status']).head()"
   ]
  },
  {
   "cell_type": "code",
   "execution_count": 37,
   "metadata": {
    "collapsed": false
   },
   "outputs": [
    {
     "data": {
      "text/html": [
       "<div>\n",
       "<table border=\"1\" class=\"dataframe\">\n",
       "  <thead>\n",
       "    <tr style=\"text-align: right;\">\n",
       "      <th></th>\n",
       "      <th>count</th>\n",
       "      <th>sum</th>\n",
       "      <th>mean</th>\n",
       "      <th>max</th>\n",
       "      <th>min</th>\n",
       "    </tr>\n",
       "    <tr>\n",
       "      <th>location</th>\n",
       "      <th></th>\n",
       "      <th></th>\n",
       "      <th></th>\n",
       "      <th></th>\n",
       "      <th></th>\n",
       "    </tr>\n",
       "  </thead>\n",
       "  <tbody>\n",
       "    <tr>\n",
       "      <th>Ampang</th>\n",
       "      <td>209</td>\n",
       "      <td>105383</td>\n",
       "      <td>504.224880</td>\n",
       "      <td>995</td>\n",
       "      <td>33</td>\n",
       "    </tr>\n",
       "    <tr>\n",
       "      <th>Bangsar</th>\n",
       "      <td>199</td>\n",
       "      <td>100420</td>\n",
       "      <td>504.623116</td>\n",
       "      <td>998</td>\n",
       "      <td>29</td>\n",
       "    </tr>\n",
       "    <tr>\n",
       "      <th>Cheras</th>\n",
       "      <td>217</td>\n",
       "      <td>109702</td>\n",
       "      <td>505.539171</td>\n",
       "      <td>996</td>\n",
       "      <td>29</td>\n",
       "    </tr>\n",
       "    <tr>\n",
       "      <th>Petaling Jaya</th>\n",
       "      <td>207</td>\n",
       "      <td>104343</td>\n",
       "      <td>504.072464</td>\n",
       "      <td>997</td>\n",
       "      <td>27</td>\n",
       "    </tr>\n",
       "  </tbody>\n",
       "</table>\n",
       "</div>"
      ],
      "text/plain": [
       "               count     sum        mean  max  min\n",
       "location                                          \n",
       "Ampang           209  105383  504.224880  995   33\n",
       "Bangsar          199  100420  504.623116  998   29\n",
       "Cheras           217  109702  505.539171  996   29\n",
       "Petaling Jaya    207  104343  504.072464  997   27"
      ]
     },
     "execution_count": 37,
     "metadata": {},
     "output_type": "execute_result"
    }
   ],
   "source": [
    "# aggfunc allows you to calculate some useful statistics aggregated over all entries in the dataframe\n",
    "pd.pivot_table(df, values = 'CustomerCount', index = ['location'], aggfunc=('count','sum','mean','max','min'))"
   ]
  },
  {
   "cell_type": "code",
   "execution_count": 41,
   "metadata": {
    "collapsed": false
   },
   "outputs": [
    {
     "data": {
      "text/html": [
       "<div>\n",
       "<table border=\"1\" class=\"dataframe\">\n",
       "  <thead>\n",
       "    <tr style=\"text-align: right;\">\n",
       "      <th></th>\n",
       "      <th>count</th>\n",
       "      <th>sum</th>\n",
       "      <th>mean</th>\n",
       "      <th>max</th>\n",
       "      <th>min</th>\n",
       "    </tr>\n",
       "    <tr>\n",
       "      <th>Status</th>\n",
       "      <th></th>\n",
       "      <th></th>\n",
       "      <th></th>\n",
       "      <th></th>\n",
       "      <th></th>\n",
       "    </tr>\n",
       "  </thead>\n",
       "  <tbody>\n",
       "    <tr>\n",
       "      <th>1</th>\n",
       "      <td>287</td>\n",
       "      <td>148973</td>\n",
       "      <td>519.069686</td>\n",
       "      <td>997</td>\n",
       "      <td>30</td>\n",
       "    </tr>\n",
       "    <tr>\n",
       "      <th>2</th>\n",
       "      <td>276</td>\n",
       "      <td>136841</td>\n",
       "      <td>495.800725</td>\n",
       "      <td>995</td>\n",
       "      <td>29</td>\n",
       "    </tr>\n",
       "    <tr>\n",
       "      <th>3</th>\n",
       "      <td>269</td>\n",
       "      <td>134034</td>\n",
       "      <td>498.267658</td>\n",
       "      <td>998</td>\n",
       "      <td>27</td>\n",
       "    </tr>\n",
       "  </tbody>\n",
       "</table>\n",
       "</div>"
      ],
      "text/plain": [
       "        count     sum        mean  max  min\n",
       "Status                                     \n",
       "1         287  148973  519.069686  997   30\n",
       "2         276  136841  495.800725  995   29\n",
       "3         269  134034  498.267658  998   27"
      ]
     },
     "execution_count": 41,
     "metadata": {},
     "output_type": "execute_result"
    }
   ],
   "source": [
    "# Design your own pivot tables to extract some meaningful information from the data!\n",
    "pd.pivot_table(df, values = 'CustomerCount', index = ['Status'], aggfunc=('count','sum','mean','max','min'))"
   ]
  },
  {
   "cell_type": "markdown",
   "metadata": {},
   "source": [
    "## Example Analysis\n",
    "\n",
    "Let's now plot the data per location.  \n",
    "\n",
    "As you can see by breaking the graph up by the ***location*** column we have a much clearer picture on how the data looks like. **<font color=\"#ec1c24\">Can you spot any outliers?</font>**"
   ]
  },
  {
   "cell_type": "code",
   "execution_count": 39,
   "metadata": {
    "collapsed": false
   },
   "outputs": [
    {
     "name": "stdout",
     "output_type": "stream",
     "text": [
      "Ampang\n"
     ]
    },
    {
     "data": {
      "image/png": "[encoded data removed]",
      "text/plain": [
       "<matplotlib.figure.Figure at 0x13ddb26d3c8>"
      ]
     },
     "metadata": {},
     "output_type": "display_data"
    },
    {
     "name": "stdout",
     "output_type": "stream",
     "text": [
      "Bangsar\n"
     ]
    },
    {
     "data": {
      "image/png": "[encoded data removed]",
      "text/plain": [
       "<matplotlib.figure.Figure at 0x13ddb348978>"
      ]
     },
     "metadata": {},
     "output_type": "display_data"
    },
    {
     "name": "stdout",
     "output_type": "stream",
     "text": [
      "Cheras\n"
     ]
    },
    {
     "data": {
      "image/png": "[encoded data removed]",
      "text/plain": [
       "<matplotlib.figure.Figure at 0x13ddb3fccf8>"
      ]
     },
     "metadata": {},
     "output_type": "display_data"
    },
    {
     "name": "stdout",
     "output_type": "stream",
     "text": [
      "Petaling Jaya\n"
     ]
    },
    {
     "data": {
      "image/png": "[encoded data removed]",
      "text/plain": [
       "<matplotlib.figure.Figure at 0x13ddb492c88>"
      ]
     },
     "metadata": {},
     "output_type": "display_data"
    }
   ],
   "source": [
    "for place in Daily.index.levels[0]:\n",
    "    print(place)\n",
    "    Daily.loc[place].plot()\n",
    "    plt.show();"
   ]
  },
  {
   "cell_type": "markdown",
   "metadata": {},
   "source": [
    "We will assume that per month the customer count should remain relatively steady. Any data outside a specific range in that month will be removed from the data set. The final result should have smooth graphs with no spikes.  \n",
    "\n",
    "***LocationYearMonth*** - Here we group by location, Year of StatusDate, and Month of StatusDate.  \n",
    "***Daily['Outlier']*** - A boolean (True or False) value letting us know if the value in the CustomerCount column is ouside the acceptable range.  \n",
    "\n",
    "We will be using the attribute ***transform*** instead of ***apply***. The reason is that transform will keep the shape(# of rows and columns) of the dataframe the same and apply will not. By looking at the previous graphs, we can realize they are not resembling a gaussian distribution, this means we cannot use summary statistics like the mean and stDev. We use percentiles instead. Note that we run the risk of eliminating good data."
   ]
  },
  {
   "cell_type": "code",
   "execution_count": 42,
   "metadata": {
    "collapsed": true
   },
   "outputs": [],
   "source": [
    "# Calculate Outliers\n",
    "LocationYearMonth = Daily.groupby([Daily.index.get_level_values(0), Daily.index.get_level_values(1).year, Daily.index.get_level_values(1).month])\n",
    "Daily['Lower'] = LocationYearMonth['CustomerCount'].transform( lambda x: x.quantile(q=.25) - (1.5*x.quantile(q=.75)-x.quantile(q=.25)) )\n",
    "Daily['Upper'] = LocationYearMonth['CustomerCount'].transform( lambda x: x.quantile(q=.75) + (1.5*x.quantile(q=.75)-x.quantile(q=.25)) )\n",
    "Daily['Outlier'] = (Daily['CustomerCount'] < Daily['Lower']) | (Daily['CustomerCount'] > Daily['Upper']) \n",
    "\n",
    "# Remove Outliers\n",
    "Daily = Daily[Daily['Outlier'] == False]"
   ]
  },
  {
   "cell_type": "markdown",
   "metadata": {},
   "source": [
    "The dataframe named ***Daily*** will hold customer counts that have been aggregated per day. The original data (df) has multiple records per day.  We are left with a data set that is indexed by both the state and the StatusDate. The Outlier column should be equal to ***False*** signifying that the record is not an outlier."
   ]
  },
  {
   "cell_type": "code",
   "execution_count": 43,
   "metadata": {
    "collapsed": false
   },
   "outputs": [
    {
     "data": {
      "text/html": [
       "<div>\n",
       "<table border=\"1\" class=\"dataframe\">\n",
       "  <thead>\n",
       "    <tr style=\"text-align: right;\">\n",
       "      <th></th>\n",
       "      <th></th>\n",
       "      <th>CustomerCount</th>\n",
       "      <th>Lower</th>\n",
       "      <th>Upper</th>\n",
       "      <th>Outlier</th>\n",
       "    </tr>\n",
       "    <tr>\n",
       "      <th>location</th>\n",
       "      <th>StatusDate</th>\n",
       "      <th></th>\n",
       "      <th></th>\n",
       "      <th></th>\n",
       "      <th></th>\n",
       "    </tr>\n",
       "  </thead>\n",
       "  <tbody>\n",
       "    <tr>\n",
       "      <th rowspan=\"5\" valign=\"top\">Ampang</th>\n",
       "      <th>2013-01-07</th>\n",
       "      <td>1722</td>\n",
       "      <td>-120.000</td>\n",
       "      <td>3269.500</td>\n",
       "      <td>False</td>\n",
       "    </tr>\n",
       "    <tr>\n",
       "      <th>2013-01-14</th>\n",
       "      <td>909</td>\n",
       "      <td>-120.000</td>\n",
       "      <td>3269.500</td>\n",
       "      <td>False</td>\n",
       "    </tr>\n",
       "    <tr>\n",
       "      <th>2013-01-28</th>\n",
       "      <td>1946</td>\n",
       "      <td>-120.000</td>\n",
       "      <td>3269.500</td>\n",
       "      <td>False</td>\n",
       "    </tr>\n",
       "    <tr>\n",
       "      <th>2013-02-04</th>\n",
       "      <td>612</td>\n",
       "      <td>-1438.125</td>\n",
       "      <td>3712.875</td>\n",
       "      <td>False</td>\n",
       "    </tr>\n",
       "    <tr>\n",
       "      <th>2013-02-11</th>\n",
       "      <td>1416</td>\n",
       "      <td>-1438.125</td>\n",
       "      <td>3712.875</td>\n",
       "      <td>False</td>\n",
       "    </tr>\n",
       "  </tbody>\n",
       "</table>\n",
       "</div>"
      ],
      "text/plain": [
       "                     CustomerCount     Lower     Upper Outlier\n",
       "location StatusDate                                           \n",
       "Ampang   2013-01-07           1722  -120.000  3269.500   False\n",
       "         2013-01-14            909  -120.000  3269.500   False\n",
       "         2013-01-28           1946  -120.000  3269.500   False\n",
       "         2013-02-04            612 -1438.125  3712.875   False\n",
       "         2013-02-11           1416 -1438.125  3712.875   False"
      ]
     },
     "execution_count": 43,
     "metadata": {},
     "output_type": "execute_result"
    }
   ],
   "source": [
    "Daily.head()"
   ]
  },
  {
   "cell_type": "markdown",
   "metadata": {},
   "source": [
    "We create a separate dataframe named ***ALL*** which groups the Daily dataframe by StatusDate. We are essentially getting rid of the ***Location*** column. The ***Max*** column represents the maximum customer count per month. The ***Max*** column is used to smooth out the graph."
   ]
  },
  {
   "cell_type": "code",
   "execution_count": 44,
   "metadata": {
    "collapsed": false
   },
   "outputs": [
    {
     "data": {
      "text/html": [
       "<div>\n",
       "<table border=\"1\" class=\"dataframe\">\n",
       "  <thead>\n",
       "    <tr style=\"text-align: right;\">\n",
       "      <th></th>\n",
       "      <th>CustomerCount</th>\n",
       "      <th>Max</th>\n",
       "    </tr>\n",
       "    <tr>\n",
       "      <th>StatusDate</th>\n",
       "      <th></th>\n",
       "      <th></th>\n",
       "    </tr>\n",
       "  </thead>\n",
       "  <tbody>\n",
       "    <tr>\n",
       "      <th>2013-01-07</th>\n",
       "      <td>2971</td>\n",
       "      <td>2971</td>\n",
       "    </tr>\n",
       "    <tr>\n",
       "      <th>2013-01-14</th>\n",
       "      <td>2093</td>\n",
       "      <td>2971</td>\n",
       "    </tr>\n",
       "    <tr>\n",
       "      <th>2013-01-21</th>\n",
       "      <td>1819</td>\n",
       "      <td>2971</td>\n",
       "    </tr>\n",
       "    <tr>\n",
       "      <th>2013-01-28</th>\n",
       "      <td>1979</td>\n",
       "      <td>2971</td>\n",
       "    </tr>\n",
       "    <tr>\n",
       "      <th>2013-02-04</th>\n",
       "      <td>2521</td>\n",
       "      <td>3343</td>\n",
       "    </tr>\n",
       "  </tbody>\n",
       "</table>\n",
       "</div>"
      ],
      "text/plain": [
       "            CustomerCount   Max\n",
       "StatusDate                     \n",
       "2013-01-07           2971  2971\n",
       "2013-01-14           2093  2971\n",
       "2013-01-21           1819  2971\n",
       "2013-01-28           1979  2971\n",
       "2013-02-04           2521  3343"
      ]
     },
     "execution_count": 44,
     "metadata": {},
     "output_type": "execute_result"
    }
   ],
   "source": [
    "# Combine all markets\n",
    "\n",
    "# Get the max customer count by Date\n",
    "ALL = pd.DataFrame(Daily['CustomerCount'].groupby(Daily.index.get_level_values(1)).sum())\n",
    "ALL.columns = ['CustomerCount'] # rename column\n",
    "\n",
    "# Group by Year and Month\n",
    "YearMonth = ALL.groupby([lambda x: x.year, lambda x: x.month])\n",
    "\n",
    "# What is the max customer count per Year and Month\n",
    "ALL['Max'] = YearMonth['CustomerCount'].transform(lambda x: x.max())\n",
    "ALL.head()"
   ]
  },
  {
   "cell_type": "markdown",
   "metadata": {},
   "source": [
    "As you can see from the ***ALL*** dataframe above, in the month of Jan 2013, the maximum customer count was 1702. If we had used ***apply***, we would have got a dataframe with (Year and Month) as the index and just the *Max* column with the value of 1702. \n",
    "\n",
    "\n",
    "----------------------------------  \n",
    "There is also an interest to gauge if the current customer counts were reaching certain goals the company had established. The task here is to visually show if the current customer counts are meeting the goals listed below. We will call the goals ***BHAG*** (Big Hairy Annual Goal).  \n",
    "\n",
    "* 12/31/2015 - 1,000 customers  \n",
    "* 12/31/2016 - 2,000 customers  \n",
    "* 12/31/2017 - 3,000 customers  \n",
    "\n",
    "We will be using the **date_range** function to create our dates.  \n",
    "\n",
    "***Definition:*** date_range(start=None, end=None, periods=None, freq='D', tz=None, normalize=False, name=None, closed=None)  \n",
    "***Docstring:*** Return a fixed frequency datetime index, with day (calendar) as the default frequency  \n",
    "\n",
    "By choosing the frequency to be ***A*** or annual we will be able to get the three target dates from above."
   ]
  },
  {
   "cell_type": "code",
   "execution_count": null,
   "metadata": {
    "collapsed": true
   },
   "outputs": [],
   "source": [
    "pd.date_range?\n",
    "\n",
    "# try it\n"
   ]
  },
  {
   "cell_type": "markdown",
   "metadata": {},
   "source": [
    "# Presenting Data  \n",
    "\n",
    "Create individual Graphs for each location"
   ]
  },
  {
   "cell_type": "code",
   "execution_count": 45,
   "metadata": {
    "collapsed": false
   },
   "outputs": [
    {
     "data": {
      "text/plain": [
       "array(['Ampang', 'Bangsar', 'Cheras', 'Petaling Jaya'], dtype=object)"
      ]
     },
     "execution_count": 45,
     "metadata": {},
     "output_type": "execute_result"
    }
   ],
   "source": [
    "df['location'].unique()"
   ]
  },
  {
   "cell_type": "code",
   "execution_count": 46,
   "metadata": {
    "collapsed": false
   },
   "outputs": [
    {
     "data": {
      "image/png": "[encoded data removed]",
      "text/plain": [
       "<matplotlib.figure.Figure at 0x13ddb39bfd0>"
      ]
     },
     "metadata": {},
     "output_type": "display_data"
    },
    {
     "data": {
      "image/png": "[encoded data removed]",
      "text/plain": [
       "<matplotlib.figure.Figure at 0x13ddb3430f0>"
      ]
     },
     "metadata": {},
     "output_type": "display_data"
    }
   ],
   "source": [
    "# First Graph\n",
    "ALL['Max'].plot(figsize=(10, 5));plt.title('ALL Markets')\n",
    "\n",
    "# Last four Graphs\n",
    "fig, axes = plt.subplots(nrows=2, ncols=2, figsize=(20, 10))\n",
    "fig.subplots_adjust(hspace=1.0) ## Create space between plots\n",
    "\n",
    "Daily.loc['Bangsar']['CustomerCount']['2016':].fillna(method='pad').plot(ax=axes[0,0])\n",
    "Daily.loc['Petaling Jaya']['CustomerCount']['2016':].fillna(method='pad').plot(ax=axes[0,1]) \n",
    "Daily.loc['Ampang']['CustomerCount']['2016':].fillna(method='pad').plot(ax=axes[1,0]) \n",
    "Daily.loc['Cheras']['CustomerCount']['2016':].fillna(method='pad').plot(ax=axes[1,1]) \n",
    "\n",
    "# Add titles\n",
    "axes[0,0].set_title('Bangsar')\n",
    "axes[0,1].set_title('Petaling Jaya')\n",
    "axes[1,0].set_title('Ampang')\n",
    "axes[1,1].set_title('Cheras')\n",
    "plt.show();"
   ]
  },
  {
   "cell_type": "markdown",
   "metadata": {},
   "source": [
    "## Summary\n",
    "\n",
    "Pandas provides a \"batteries-included\" basic data analysis:\n",
    "  - **Loading data:** `read_csv`, `read_table`, `read_sql`, and `read_html`\n",
    "  - **Selection, filtering, and aggregation** (i.e., SQL-type operations): There's a special syntax for `SELECT`ing.  There's the `merge` method for `JOIN`ing.  There's also an easy syntax for what in SQL is a mouthful: Creating a new column whose value is computed from other column -- with the bonus that now the computations can use the full power of Python (though it might be faster if it didn't).\n",
    "  - **\"Pivot table\" style aggregation**: If you're an Excel cognosceti, you may appreciate this.\n",
    "  - **NA handling**: Like R's data frames, there is good support for transforming NA values with default values / averaging tricks / etc.\n",
    "  - **Basic statistics:** e.g. `mean`, `median`, `max`, `min`, and the convenient `describe`.\n",
    "  - **Plugging into more advanced analytics:** Okay, this isn't batteries included.  But still, it plays reasonably with `sklearn`.\n",
    "  - **Visualization:** For instance `plot` and `hist`.\n",
    "  \n",
    "Plugging into more advanced analytics\n",
    "-------\n",
    "Almost any \"advanced analytics\" tool in the Python ecosystem is going to take as input `np.array` type arrays.  You can access the underlying array of a data frame column as\n",
    "\n",
    "        df['column'].values\n",
    "        \n",
    "Many of them take `nd.array` whose underlying data can be accessed by \n",
    "\n",
    "        df.values\n",
    "        \n",
    "directly.  *Most* of the time, they will take `df['column']` and `df` without needing to look at values.\n",
    "\n",
    "This is particularly important if you want to use Pandas with the sklearn library. See this [blog post](http://www.markhneedham.com/blog/2013/11/09/python-making-scikit-learn-and-pandas-play-nice/) for an example."
   ]
  },
  {
   "cell_type": "markdown",
   "metadata": {},
   "source": [
    "## Other Topics\n",
    "\n",
    "### Merging Dataframes"
   ]
  },
  {
   "cell_type": "code",
   "execution_count": null,
   "metadata": {
    "collapsed": true
   },
   "outputs": [],
   "source": [
    "df = pd.DataFrame([{'Name': 'Chris', 'Item Purchased': 'Sponge', 'Cost': 22.50},\n",
    "                   {'Name': 'Kevyn', 'Item Purchased': 'Kitty Litter', 'Cost': 2.50},\n",
    "                   {'Name': 'Filip', 'Item Purchased': 'Spoon', 'Cost': 5.00}],\n",
    "                  index=['Store 1', 'Store 1', 'Store 2'])\n",
    "df"
   ]
  },
  {
   "cell_type": "code",
   "execution_count": null,
   "metadata": {
    "collapsed": true
   },
   "outputs": [],
   "source": [
    "df['Date'] = ['December 1', 'January 1', 'mid-May']\n",
    "df"
   ]
  },
  {
   "cell_type": "code",
   "execution_count": null,
   "metadata": {
    "collapsed": true
   },
   "outputs": [],
   "source": [
    "df['Delivered'] = True\n",
    "df"
   ]
  },
  {
   "cell_type": "code",
   "execution_count": null,
   "metadata": {
    "collapsed": true
   },
   "outputs": [],
   "source": [
    "df['Feedback'] = ['Positive', None, 'Negative']\n",
    "df"
   ]
  },
  {
   "cell_type": "code",
   "execution_count": null,
   "metadata": {
    "collapsed": true
   },
   "outputs": [],
   "source": [
    "adf = df.reset_index()\n",
    "adf['Date'] = pd.Series({0: 'December 1', 2: 'mid-May'})\n",
    "adf.info()"
   ]
  },
  {
   "cell_type": "code",
   "execution_count": null,
   "metadata": {
    "collapsed": true
   },
   "outputs": [],
   "source": [
    "staff_df = pd.DataFrame([{'Name': 'Kelly', 'Role': 'Director of HR'},\n",
    "                         {'Name': 'Sally', 'Role': 'Course liasion'},\n",
    "                         {'Name': 'James', 'Role': 'Grader'}])\n",
    "staff_df = staff_df.set_index('Name')\n",
    "\n",
    "student_df = pd.DataFrame([{'Name': 'James', 'School': 'Business'},\n",
    "                           {'Name': 'Mike', 'School': 'Law'},\n",
    "                           {'Name': 'Sally', 'School': 'Engineering'}])\n",
    "student_df = student_df.set_index('Name')\n",
    "staff_df.head()\n",
    "#student_df.head()\n"
   ]
  },
  {
   "cell_type": "code",
   "execution_count": null,
   "metadata": {
    "collapsed": true
   },
   "outputs": [],
   "source": [
    "pd.merge?"
   ]
  },
  {
   "cell_type": "markdown",
   "metadata": {},
   "source": [
    "![](http://www.dofactory.com/Images/sql-joins.png)"
   ]
  },
  {
   "cell_type": "code",
   "execution_count": null,
   "metadata": {
    "collapsed": true,
    "scrolled": true
   },
   "outputs": [],
   "source": [
    "pd.merge(staff_df, student_df, how='outer', left_index=True, right_index=True)"
   ]
  },
  {
   "cell_type": "code",
   "execution_count": null,
   "metadata": {
    "collapsed": true
   },
   "outputs": [],
   "source": [
    "pd.merge(staff_df, student_df, how='inner', left_index=True, right_index=True)"
   ]
  },
  {
   "cell_type": "code",
   "execution_count": null,
   "metadata": {
    "collapsed": true
   },
   "outputs": [],
   "source": [
    "pd.merge(staff_df, student_df, how='left', left_index=True, right_index=True)"
   ]
  },
  {
   "cell_type": "code",
   "execution_count": null,
   "metadata": {
    "collapsed": true
   },
   "outputs": [],
   "source": [
    "pd.merge(staff_df, student_df, how='right', left_index=True, right_index=True)"
   ]
  },
  {
   "cell_type": "code",
   "execution_count": null,
   "metadata": {
    "collapsed": true,
    "scrolled": true
   },
   "outputs": [],
   "source": [
    "staff_df = staff_df.reset_index()\n",
    "student_df = student_df.reset_index()\n",
    "staff_df\n",
    "student_df\n",
    "pd.merge(staff_df, student_df, how='left', left_on='Name', right_on='Name')"
   ]
  },
  {
   "cell_type": "code",
   "execution_count": null,
   "metadata": {
    "collapsed": true
   },
   "outputs": [],
   "source": [
    "staff_df = pd.DataFrame([{'Name': 'Kelly', 'Role': 'Director of HR', 'Location': 'State Street'},\n",
    "                         {'Name': 'Sally', 'Role': 'Course liasion', 'Location': 'Washington Avenue'},\n",
    "                         {'Name': 'James', 'Role': 'Grader', 'Location': 'Washington Avenue'}])\n",
    "student_df = pd.DataFrame([{'Name': 'James', 'School': 'Business', 'Location': '1024 Billiard Avenue'},\n",
    "                           {'Name': 'Mike', 'School': 'Law', 'Location': 'Fraternity House #22'},\n",
    "                           {'Name': 'Sally', 'School': 'Engineering', 'Location': '512 Wilson Crescent'}])\n",
    "staff_df\n",
    "student_df\n",
    "pd.merge(staff_df, student_df, how='left', left_on='Name', right_on='Name')"
   ]
  },
  {
   "cell_type": "code",
   "execution_count": null,
   "metadata": {
    "collapsed": true
   },
   "outputs": [],
   "source": [
    "staff_df = pd.DataFrame([{'First Name': 'Kelly', 'Last Name': 'Desjardins', 'Role': 'Director of HR'},\n",
    "                         {'First Name': 'Sally', 'Last Name': 'Brooks', 'Role': 'Course liasion'},\n",
    "                         {'First Name': 'James', 'Last Name': 'Wilde', 'Role': 'Grader'}])\n",
    "student_df = pd.DataFrame([{'First Name': 'James', 'Last Name': 'Hammond', 'School': 'Business'},\n",
    "                           {'First Name': 'Mike', 'Last Name': 'Smith', 'School': 'Law'},\n",
    "                           {'First Name': 'Sally', 'Last Name': 'Brooks', 'School': 'Engineering'}])\n",
    "staff_df\n",
    "student_df\n",
    "pd.merge(staff_df, student_df, how='inner', left_on=['First Name','Last Name'], right_on=['First Name','Last Name'])"
   ]
  },
  {
   "cell_type": "markdown",
   "metadata": {},
   "source": [
    "### Concatenate Dataframes"
   ]
  },
  {
   "cell_type": "code",
   "execution_count": null,
   "metadata": {
    "collapsed": true
   },
   "outputs": [],
   "source": [
    "pd.concat?"
   ]
  },
  {
   "cell_type": "code",
   "execution_count": null,
   "metadata": {
    "collapsed": true
   },
   "outputs": [],
   "source": [
    "df1 = pd.DataFrame({'A': ['A0', 'A1', 'A2', 'A3'],\n",
    "                    'B': ['B0', 'B1', 'B2', 'B3'],\n",
    "                    'C': ['C0', 'C1', 'C2', 'C3'],\n",
    "                    'D': ['D0', 'D1', 'D2', 'D3']},\n",
    "                    index=[0, 1, 2, 3])\n",
    "\n",
    "df2 = pd.DataFrame({'A': ['A4', 'A5', 'A6', 'A7'],\n",
    "                    'B': ['B4', 'B5', 'B6', 'B7'],\n",
    "                    'C': ['C4', 'C5', 'C6', 'C7'],\n",
    "                    'D': ['D4', 'D5', 'D6', 'D7']},\n",
    "                    index=[4, 5, 6, 7])\n",
    "\n",
    "\n",
    "df3 = pd.DataFrame({'A': ['A8', 'A9', 'A10', 'A11'],\n",
    "                    'B': ['B8', 'B9', 'B10', 'B11'],\n",
    "                    'C': ['C8', 'C9', 'C10', 'C11'],\n",
    "                    'D': ['D8', 'D9', 'D10', 'D11']},\n",
    "                     index=[8, 9, 10, 11])\n",
    "\n",
    "\n",
    "df1\n",
    "df2\n",
    "df3\n",
    "frames = [df1, df2, df3]\n",
    "\n",
    "result = pd.concat([df2,df1,df3])\n",
    "\n",
    "result"
   ]
  },
  {
   "cell_type": "markdown",
   "metadata": {},
   "source": [
    "![](https://pandas.pydata.org/pandas-docs/stable/_images/merging_concat_basic.png)"
   ]
  },
  {
   "cell_type": "code",
   "execution_count": null,
   "metadata": {
    "collapsed": true
   },
   "outputs": [],
   "source": [
    "result = pd.concat(frames, keys=['Level1', 'Level2', 'Level3'])\n",
    "result"
   ]
  },
  {
   "cell_type": "markdown",
   "metadata": {},
   "source": [
    "What if the columns for both dataframes are not exactly the same (but with some overlaps) ?"
   ]
  },
  {
   "cell_type": "code",
   "execution_count": null,
   "metadata": {
    "collapsed": true
   },
   "outputs": [],
   "source": [
    "df4 = pd.DataFrame({'B': ['B2', 'B3', 'B6', 'B7'],\n",
    "                    'D': ['D2', 'D3', 'D6', 'D7'],\n",
    "                    'F': ['F2', 'F3', 'F6', 'F7']},\n",
    "                    index=[2, 3, 6, 7])\n",
    "\n",
    "\n",
    "result = pd.concat([df1, df4], axis=1)\n",
    "result\n"
   ]
  },
  {
   "cell_type": "markdown",
   "metadata": {},
   "source": [
    "![](https://pandas.pydata.org/pandas-docs/stable/_images/merging_concat_axis1.png)"
   ]
  },
  {
   "cell_type": "markdown",
   "metadata": {},
   "source": [
    "### Apply functions over the columns\n",
    "\n",
    "apply() can apply a function along any axis of the dataframe"
   ]
  },
  {
   "cell_type": "code",
   "execution_count": null,
   "metadata": {
    "collapsed": true
   },
   "outputs": [],
   "source": [
    "data = {'name': ['Jason', 'Molly', 'Tina', 'Jake', 'Amy'],\n",
    "        'year': [2012, 2012, 2013, 2014, 2014],\n",
    "        'reports': [4, 24, 31, 2, 3],\n",
    "        'coverage': [25, 94, 57, 62, 70]}\n",
    "df = pd.DataFrame(data, index = ['Cochice', 'Pima', 'Santa Cruz', 'Maricopa', 'Yuma'])\n",
    "df"
   ]
  },
  {
   "cell_type": "code",
   "execution_count": null,
   "metadata": {
    "collapsed": true
   },
   "outputs": [],
   "source": [
    "df.apply?"
   ]
  },
  {
   "cell_type": "code",
   "execution_count": null,
   "metadata": {
    "collapsed": true
   },
   "outputs": [],
   "source": [
    "# Create a capitalization lambda function\n",
    "capitalizer = lambda x: x.upper()"
   ]
  },
  {
   "cell_type": "code",
   "execution_count": null,
   "metadata": {
    "collapsed": true
   },
   "outputs": [],
   "source": [
    "df['name'].apply(capitalizer)\n",
    "df['name'].apply(lambda x: x.upper())\n",
    "df.name.apply(lambda x: x.upper())"
   ]
  },
  {
   "cell_type": "markdown",
   "metadata": {},
   "source": [
    "Map the capitalizer lambda function over each element in the series 'name' using map()"
   ]
  },
  {
   "cell_type": "code",
   "execution_count": null,
   "metadata": {
    "collapsed": true
   },
   "outputs": [],
   "source": [
    "df['name'].map(capitalizer)"
   ]
  },
  {
   "cell_type": "markdown",
   "metadata": {},
   "source": [
    "Apply a square function to every single cell in the whole data frame using applymap()"
   ]
  },
  {
   "cell_type": "code",
   "execution_count": null,
   "metadata": {
    "collapsed": true
   },
   "outputs": [],
   "source": [
    "# Drop the string variable so that applymap() can run\n",
    "#df = df.drop('name', axis=1)\n",
    "\n",
    "# Return the square of every cell in the dataframe\n",
    "df.applymap(np.square)"
   ]
  },
  {
   "cell_type": "markdown",
   "metadata": {},
   "source": [
    "### Apply functions over a Dataframe\n",
    "Create a function that multiplies all non-strings by 100"
   ]
  },
  {
   "cell_type": "code",
   "execution_count": null,
   "metadata": {
    "collapsed": true
   },
   "outputs": [],
   "source": [
    "# create a function called times100\n",
    "def times100(x):\n",
    "    # that, if x is a string,\n",
    "    if type(x) is str:\n",
    "        # just returns it untouched\n",
    "        return x\n",
    "    # but, if not, return it multiplied by 100\n",
    "    elif x:\n",
    "        return 100 * x\n",
    "    # and leave everything else\n",
    "    else:\n",
    "        return\n",
    "\n",
    "df.applymap(times100)"
   ]
  },
  {
   "cell_type": "markdown",
   "metadata": {},
   "source": [
    "## Scales\n",
    "\n",
    "* **Ratio Scale:**\n",
    "    * units are equally spaced\n",
    "    * mathematical operations of +-*/ are all valid\n",
    "    * e.g. height and weight\n",
    "* **Interval scale:**\n",
    "    * units are equally spaced but there are no true zero\n",
    "    * e.g. Temperature in Celcius, where 0C means is not true zero\n",
    "* **Ordinal scale:**\n",
    "    * the order of the units is important, but not evenly spaced\n",
    "    * Letter grades such as A+, A are a good example\n",
    "* **Nominal scale:**\n",
    "    * sometimes called categorical data\n",
    "    * categories of data but the categories have no order with respect to one another\n",
    "    * Teams of a sport"
   ]
  },
  {
   "cell_type": "code",
   "execution_count": null,
   "metadata": {
    "collapsed": true
   },
   "outputs": [],
   "source": [
    "df = pd.DataFrame(['A+', 'A', 'A-', 'B+', 'B', 'B-', 'C+', 'C', 'C-', 'D+', 'D'],\n",
    "                  index=['excellent', 'excellent', 'excellent', 'good', 'good', 'good', 'ok', 'ok', 'ok', 'poor', 'poor'])\n",
    "df.rename(columns={0: 'Grades'}, inplace=True)\n",
    "df"
   ]
  },
  {
   "cell_type": "code",
   "execution_count": null,
   "metadata": {
    "collapsed": true
   },
   "outputs": [],
   "source": [
    "df['Grades'].astype('category')"
   ]
  },
  {
   "cell_type": "code",
   "execution_count": null,
   "metadata": {
    "collapsed": true
   },
   "outputs": [],
   "source": [
    "grades = df['Grades'].astype('category',\n",
    "                             categories=['D', 'D+', 'C-', 'C', 'C+', 'B-', 'B', 'B+', 'A-', 'A', 'A+'],\n",
    "                             ordered=True)\n",
    "grades"
   ]
  },
  {
   "cell_type": "code",
   "execution_count": null,
   "metadata": {
    "collapsed": true
   },
   "outputs": [],
   "source": [
    "grades > 'C'\n",
    "grades[grades>'C']"
   ]
  },
  {
   "cell_type": "markdown",
   "metadata": {},
   "source": [
    "# Date Functionality in Pandas\n",
    "\n",
    "Following table shows the type of time-related classes pandas can handle and how to create them.\n",
    "\n",
    "| Class         |      Remarks                    |  How to create |\n",
    "|---------------|:-------------------------------:|---------------:|\n",
    "| `Timestamp`\t    |  Represents a single time stamp | `to_datetime`, `Timestamp` |\n",
    "| `DatetimeIndex` |    Index of Timestamp           | `to_datetime`, `date_range`, `DatetimeIndex`|\n",
    "| `Period`        | Represents a single time span   |    `Period`          |\n",
    "| `PeriodIndex`   | Index of a Period               |`period_range`,`PeriodIndex` |\n",
    "\n"
   ]
  },
  {
   "cell_type": "markdown",
   "metadata": {},
   "source": [
    "### Timestamp"
   ]
  },
  {
   "cell_type": "code",
   "execution_count": null,
   "metadata": {
    "collapsed": true
   },
   "outputs": [],
   "source": [
    "pd.Timestamp?"
   ]
  },
  {
   "cell_type": "code",
   "execution_count": null,
   "metadata": {
    "collapsed": true
   },
   "outputs": [],
   "source": [
    "pd.Timestamp('9/1/2016 10:05AM')"
   ]
  },
  {
   "cell_type": "markdown",
   "metadata": {},
   "source": [
    "### Period"
   ]
  },
  {
   "cell_type": "code",
   "execution_count": null,
   "metadata": {
    "collapsed": true
   },
   "outputs": [],
   "source": [
    "pd.Period?"
   ]
  },
  {
   "cell_type": "code",
   "execution_count": null,
   "metadata": {
    "collapsed": true
   },
   "outputs": [],
   "source": [
    "pd.Period('1/2016')"
   ]
  },
  {
   "cell_type": "code",
   "execution_count": null,
   "metadata": {
    "collapsed": true
   },
   "outputs": [],
   "source": [
    "pd.Period('2016')"
   ]
  },
  {
   "cell_type": "markdown",
   "metadata": {},
   "source": [
    "### DatetimeIndex"
   ]
  },
  {
   "cell_type": "code",
   "execution_count": null,
   "metadata": {
    "collapsed": true
   },
   "outputs": [],
   "source": [
    "t1 = pd.Series(list('abc'), [pd.Timestamp('2016-09-01'), pd.Timestamp('2016-09-02'), pd.Timestamp('2016-09-03')])\n",
    "t1"
   ]
  },
  {
   "cell_type": "code",
   "execution_count": null,
   "metadata": {
    "collapsed": true
   },
   "outputs": [],
   "source": [
    "type(t1.index)"
   ]
  },
  {
   "cell_type": "markdown",
   "metadata": {},
   "source": [
    "### PeriodIndex"
   ]
  },
  {
   "cell_type": "code",
   "execution_count": null,
   "metadata": {
    "collapsed": true
   },
   "outputs": [],
   "source": [
    "t2 = pd.Series(list('def'), [pd.Period('2016-09'), pd.Period('2016-10'), pd.Period('2016-11')])\n",
    "t2"
   ]
  },
  {
   "cell_type": "code",
   "execution_count": null,
   "metadata": {
    "collapsed": true
   },
   "outputs": [],
   "source": [
    "type(t2.index)"
   ]
  },
  {
   "cell_type": "markdown",
   "metadata": {},
   "source": [
    "### Converting to Datetime"
   ]
  },
  {
   "cell_type": "code",
   "execution_count": null,
   "metadata": {
    "collapsed": true
   },
   "outputs": [],
   "source": [
    "d1 = ['2 June 2013', 'Aug 29, 2014', '2015-06-26', '7/12/16']\n",
    "ts3 = pd.DataFrame(np.random.randint(10, 100, (4,2)), index=d1, columns=list('ab'))\n",
    "ts3"
   ]
  },
  {
   "cell_type": "code",
   "execution_count": null,
   "metadata": {
    "collapsed": true
   },
   "outputs": [],
   "source": [
    "pd.to_datetime?"
   ]
  },
  {
   "cell_type": "code",
   "execution_count": null,
   "metadata": {
    "collapsed": true
   },
   "outputs": [],
   "source": [
    "ts3.index = pd.to_datetime(ts3.index)\n",
    "ts3"
   ]
  },
  {
   "cell_type": "code",
   "execution_count": null,
   "metadata": {
    "collapsed": true
   },
   "outputs": [],
   "source": [
    "date1 = pd.to_datetime('7/12/2016 13:00:00', format ='%d/%m/%Y %H:%M:%S')\n",
    "\n",
    "date2 = pd.to_datetime('9/12/2016 14:00:00', format ='%d/%m/%Y %H:%M:%S')\n",
    "\n",
    "date2 - date1"
   ]
  },
  {
   "cell_type": "code",
   "execution_count": null,
   "metadata": {
    "collapsed": true
   },
   "outputs": [],
   "source": [
    "pd.to_datetime('4.7.12', dayfirst=True)"
   ]
  },
  {
   "cell_type": "markdown",
   "metadata": {},
   "source": [
    "### Timedeltas"
   ]
  },
  {
   "cell_type": "code",
   "execution_count": null,
   "metadata": {
    "collapsed": true
   },
   "outputs": [],
   "source": [
    "pd.Timestamp('9/3/2016')-pd.Timestamp('9/1/2016')"
   ]
  },
  {
   "cell_type": "code",
   "execution_count": null,
   "metadata": {
    "collapsed": true
   },
   "outputs": [],
   "source": [
    "pd.Timestamp('9/2/2016 8:10AM') + pd.Timedelta('12D 3H')"
   ]
  },
  {
   "cell_type": "markdown",
   "metadata": {},
   "source": [
    "### Working with Dates in a Dataframe"
   ]
  },
  {
   "cell_type": "code",
   "execution_count": null,
   "metadata": {
    "collapsed": true
   },
   "outputs": [],
   "source": [
    "dates = pd.date_range('10-01-2016', periods=9, freq='2W-SUN')\n",
    "dates"
   ]
  },
  {
   "cell_type": "code",
   "execution_count": null,
   "metadata": {
    "collapsed": true
   },
   "outputs": [],
   "source": [
    "np.random.seed(100)\n",
    "df = pd.DataFrame({'Count 1': 100 + np.random.randint(-5, 10, 9).cumsum(),\n",
    "                  'Count 2': 120 + np.random.randint(-5, 10, 9)}, index=dates)\n",
    "df"
   ]
  },
  {
   "cell_type": "code",
   "execution_count": null,
   "metadata": {
    "collapsed": true
   },
   "outputs": [],
   "source": [
    "df.index.weekday_name"
   ]
  },
  {
   "cell_type": "code",
   "execution_count": null,
   "metadata": {
    "collapsed": true
   },
   "outputs": [],
   "source": [
    "df.diff?"
   ]
  },
  {
   "cell_type": "code",
   "execution_count": null,
   "metadata": {
    "collapsed": true
   },
   "outputs": [],
   "source": [
    "df.diff()"
   ]
  },
  {
   "cell_type": "code",
   "execution_count": null,
   "metadata": {
    "collapsed": true
   },
   "outputs": [],
   "source": [
    "df.resample?"
   ]
  },
  {
   "cell_type": "code",
   "execution_count": null,
   "metadata": {
    "collapsed": true
   },
   "outputs": [],
   "source": [
    "df.resample('D').mean()"
   ]
  },
  {
   "cell_type": "code",
   "execution_count": null,
   "metadata": {
    "collapsed": true
   },
   "outputs": [],
   "source": [
    "df['2017']"
   ]
  },
  {
   "cell_type": "code",
   "execution_count": null,
   "metadata": {
    "collapsed": true
   },
   "outputs": [],
   "source": [
    "df['2016-12']"
   ]
  },
  {
   "cell_type": "code",
   "execution_count": null,
   "metadata": {
    "collapsed": true
   },
   "outputs": [],
   "source": [
    "df['2016-12':]"
   ]
  },
  {
   "cell_type": "code",
   "execution_count": null,
   "metadata": {
    "collapsed": true
   },
   "outputs": [],
   "source": [
    "df.asfreq('W', method='ffill')"
   ]
  },
  {
   "cell_type": "code",
   "execution_count": null,
   "metadata": {
    "collapsed": true
   },
   "outputs": [],
   "source": [
    "import matplotlib.pyplot as plt\n",
    "%matplotlib inline\n",
    "\n",
    "df.plot();"
   ]
  }
 ],
 "metadata": {
  "celltoolbar": "Raw Cell Format",
  "kernelspec": {
   "display_name": "Python 3",
   "language": "python",
   "name": "python3"
  },
  "language_info": {
   "codemirror_mode": {
    "name": "ipython",
    "version": 3
   },
   "file_extension": ".py",
   "mimetype": "text/x-python",
   "name": "python",
   "nbconvert_exporter": "python",
   "pygments_lexer": "ipython3",
   "version": "3.6.0"
  }
 },
 "nbformat": 4,
 "nbformat_minor": 1
}
