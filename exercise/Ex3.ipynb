{
 "cells": [
  {
   "cell_type": "markdown",
   "metadata": {},
   "source": [
    "## List Comprehension & Lambda Exercise"
   ]
  },
  {
   "cell_type": "code",
   "execution_count": null,
   "metadata": {
    "collapsed": true
   },
   "outputs": [],
   "source": [
    "# write list comprehension to determine the length of each word\n",
    "# except 'the' and store as 'word_lengths'\n",
    "sentence = \"the quick brown fox jumps over the lazy dog\"\n",
    "\n"
   ]
  },
  {
   "cell_type": "code",
   "execution_count": null,
   "metadata": {
    "collapsed": true
   },
   "outputs": [],
   "source": [
    "# write a list comprehension to which contains only extract the \n",
    "# negative numbers from the list, as integers and store as newlist\n",
    "numbers = [34.6, -203.4, 44.9, -68.3, -12.2, 44.6, 12.7]\n"
   ]
  },
  {
   "cell_type": "code",
   "execution_count": null,
   "metadata": {
    "collapsed": true
   },
   "outputs": [],
   "source": [
    "# Write a list comprehension to convert the following \n",
    "# temperatures from Celcius to Fahrenheit \n",
    "# Fahrenheit = 9/5*Celcius + 32\n",
    "Celsius = [43.6, 67.3, 43.6, 56.4]\n",
    "\n"
   ]
  },
  {
   "cell_type": "code",
   "execution_count": null,
   "metadata": {
    "collapsed": true
   },
   "outputs": [],
   "source": [
    "# Convert the following code to list comprehension\n",
    "\n",
    "coords = []\n",
    "for x in range(4):\n",
    "    for y in range(2):\n",
    "        coordinate = (x, y)\n",
    "        coords.append(coordinate)\n",
    "print(coords)\n"
   ]
  },
  {
   "cell_type": "code",
   "execution_count": null,
   "metadata": {
    "collapsed": true
   },
   "outputs": [],
   "source": [
    "# write a list comprehension to list all the combinations\n",
    "# for the two sets of words\n",
    "\n",
    "set1 = ['ball','cheese','round']\n",
    "set2 = ['cake','rice','ham']\n"
   ]
  },
  {
   "cell_type": "code",
   "execution_count": null,
   "metadata": {
    "collapsed": true
   },
   "outputs": [],
   "source": [
    "# write a lambda function that square number\n",
    "# for all odd numbers from 1 to 100\n"
   ]
  },
  {
   "cell_type": "code",
   "execution_count": null,
   "metadata": {
    "collapsed": true
   },
   "outputs": [],
   "source": [
    "# write a list comprehension that quare number\n",
    "# for all odd numbers from 1 to 100\n",
    "\n"
   ]
  },
  {
   "cell_type": "code",
   "execution_count": null,
   "metadata": {
    "collapsed": true
   },
   "outputs": [],
   "source": [
    "# write a lambda function to extract names that begin with 'A'\n",
    "names = ['Anne', 'Amy', 'Bob', 'David', 'Carrie', 'Barbara', 'Zach']\n"
   ]
  },
  {
   "cell_type": "code",
   "execution_count": null,
   "metadata": {
    "collapsed": true
   },
   "outputs": [],
   "source": [
    "# write a list comprehension to extract names that begin with 'B'\n",
    "names = ['Anne', 'Amy', 'Bob', 'David', 'Carrie', 'Barbara', 'Zach']\n"
   ]
  }
 ],
 "metadata": {
  "kernelspec": {
   "display_name": "Python 3",
   "language": "python",
   "name": "python3"
  },
  "language_info": {
   "codemirror_mode": {
    "name": "ipython",
    "version": 3
   },
   "file_extension": ".py",
   "mimetype": "text/x-python",
   "name": "python",
   "nbconvert_exporter": "python",
   "pygments_lexer": "ipython3",
   "version": "3.6.1"
  }
 },
 "nbformat": 4,
 "nbformat_minor": 2
}
