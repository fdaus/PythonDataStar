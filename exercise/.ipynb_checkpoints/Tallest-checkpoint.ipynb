{
 "cells": [
  {
   "cell_type": "markdown",
   "metadata": {},
   "source": [
    "## Marking the tallest buildings in the world on Google Maps\n",
    "\n",
    "Simple tutorial on how to get this done. \n",
    "Note the following: \n",
    "1. Caution! Some people have ran into problems installing the gmaps package (with `conda install -c conda-forge gmaps`, or see [here](http://jupyter-gmaps.readthedocs.io/en/latest/install.html) for installation instructions). It is best advised to create a new virtual environment in Anaconda to fiddle with this, just in case it messes up with your root environment.\n",
    "2. You need to request for a Google API key. You can do it at the [Google API Developer Console](https://console.developers.google.com/), of course with a Google account.\n",
    "3. The original \"cleaning\" of coordinates into latitude and longitude doesn't seem to be correct (the code currently just takes the value without considering whether the location is to the east or west of GMT, or to the north or south of the Equator. Fix it!\n",
    "\n",
    "Have fun!"
   ]
  },
  {
   "cell_type": "code",
   "execution_count": 1,
   "metadata": {
    "collapsed": true
   },
   "outputs": [],
   "source": [
    "import numpy as np\n",
    "import pandas as pd\n",
    "import matplotlib.pyplot as plt\n",
    "\n",
    "import gmaps\n",
    "       \n",
    "gmaps.configure(api_key=\"ADD YOUR OWN GOOGLE API KEY HERE\") # Your Google API key"
   ]
  },
  {
   "cell_type": "code",
   "execution_count": 2,
   "metadata": {
    "collapsed": true
   },
   "outputs": [],
   "source": [
    "dfs = pd.read_html('http://en.wikipedia.org/wiki/List_of_tallest_buildings_and_structures_in_the_world', header=0, parse_dates=False)\n"
   ]
  },
  {
   "cell_type": "code",
   "execution_count": 3,
   "metadata": {
    "collapsed": true
   },
   "outputs": [],
   "source": [
    "tallest = dfs[2]"
   ]
  },
  {
   "cell_type": "code",
   "execution_count": 4,
   "metadata": {
    "collapsed": true
   },
   "outputs": [],
   "source": [
    "import re\n",
    "\n",
    "def clean_lat_long(s):\n",
    "    try:\n",
    "        parts = s.split(\"/\")\n",
    "    except AttributeError:\n",
    "        return (None, None)\n",
    "    if len(parts)<3:\n",
    "        return None\n",
    "    m=re.search(r\"(\\d+[.]\\d+);[^\\d]*(\\d+[.]\\d+)[^\\d]\", parts[2])\n",
    "    if not m:\n",
    "        return (None, None)\n",
    "    return (m.group(1), m.group(2))"
   ]
  },
  {
   "cell_type": "code",
   "execution_count": 5,
   "metadata": {},
   "outputs": [
    {
     "data": {
      "text/html": [
       "<div>\n",
       "<style>\n",
       "    .dataframe thead tr:only-child th {\n",
       "        text-align: right;\n",
       "    }\n",
       "\n",
       "    .dataframe thead th {\n",
       "        text-align: left;\n",
       "    }\n",
       "\n",
       "    .dataframe tbody tr th {\n",
       "        vertical-align: top;\n",
       "    }\n",
       "</style>\n",
       "<table border=\"1\" class=\"dataframe\">\n",
       "  <thead>\n",
       "    <tr style=\"text-align: right;\">\n",
       "      <th></th>\n",
       "      <th>Category</th>\n",
       "      <th>Structure</th>\n",
       "      <th>Country</th>\n",
       "      <th>City</th>\n",
       "      <th>Height (metres)</th>\n",
       "      <th>Height (feet)</th>\n",
       "      <th>Year built</th>\n",
       "      <th>Coordinates</th>\n",
       "      <th>Clean_Coordinates</th>\n",
       "      <th>Latitude</th>\n",
       "      <th>Longitude</th>\n",
       "    </tr>\n",
       "  </thead>\n",
       "  <tbody>\n",
       "    <tr>\n",
       "      <th>0</th>\n",
       "      <td>Mixed use</td>\n",
       "      <td>Burj Khalifa</td>\n",
       "      <td>United Arab Emirates</td>\n",
       "      <td>Dubai</td>\n",
       "      <td>828.1</td>\n",
       "      <td>2717.0</td>\n",
       "      <td>2010</td>\n",
       "      <td>25°11′50.0″N 55°16′26.6″E﻿ / ﻿25.197222°N 55.2...</td>\n",
       "      <td>(25.197222, 55.274056)</td>\n",
       "      <td>25.197222</td>\n",
       "      <td>55.274056</td>\n",
       "    </tr>\n",
       "    <tr>\n",
       "      <th>1</th>\n",
       "      <td>Self-supporting tower</td>\n",
       "      <td>Tokyo Skytree</td>\n",
       "      <td>Japan</td>\n",
       "      <td>Tokyo</td>\n",
       "      <td>634</td>\n",
       "      <td>2080.0</td>\n",
       "      <td>2011</td>\n",
       "      <td>35°42′36.5″N 139°48′39″E﻿ / ﻿35.710139°N 139.8...</td>\n",
       "      <td>(35.710139, 139.81083)</td>\n",
       "      <td>35.710139</td>\n",
       "      <td>139.81083</td>\n",
       "    </tr>\n",
       "    <tr>\n",
       "      <th>2</th>\n",
       "      <td>Guyed steel lattice mast</td>\n",
       "      <td>KVLY-TV mast</td>\n",
       "      <td>United States</td>\n",
       "      <td>Blanchard, North Dakota</td>\n",
       "      <td>628.8</td>\n",
       "      <td>2063.0</td>\n",
       "      <td>1963</td>\n",
       "      <td>47°20′32″N 97°17′25″W﻿ / ﻿47.34222°N 97.29028°...</td>\n",
       "      <td>(47.34222, 97.29028)</td>\n",
       "      <td>47.34222</td>\n",
       "      <td>97.29028</td>\n",
       "    </tr>\n",
       "    <tr>\n",
       "      <th>3</th>\n",
       "      <td>Clock building</td>\n",
       "      <td>Abraj Al Bait Towers</td>\n",
       "      <td>Saudi Arabia</td>\n",
       "      <td>Mecca</td>\n",
       "      <td>601</td>\n",
       "      <td>1972.0</td>\n",
       "      <td>2011</td>\n",
       "      <td>21°25′08″N 39°49′35″E﻿ / ﻿21.41889°N 39.82639°...</td>\n",
       "      <td>(21.41889, 39.82639)</td>\n",
       "      <td>21.41889</td>\n",
       "      <td>39.82639</td>\n",
       "    </tr>\n",
       "    <tr>\n",
       "      <th>4</th>\n",
       "      <td>Office</td>\n",
       "      <td>One World Trade Center</td>\n",
       "      <td>United States</td>\n",
       "      <td>New York, NY</td>\n",
       "      <td>541</td>\n",
       "      <td>1776.0</td>\n",
       "      <td>2013</td>\n",
       "      <td>40°42′46.8″N 74°0′48.6″W﻿ / ﻿40.713000°N 74.01...</td>\n",
       "      <td>(40.713000, 74.013500)</td>\n",
       "      <td>40.713000</td>\n",
       "      <td>74.013500</td>\n",
       "    </tr>\n",
       "  </tbody>\n",
       "</table>\n",
       "</div>"
      ],
      "text/plain": [
       "                   Category               Structure               Country  \\\n",
       "0                 Mixed use            Burj Khalifa  United Arab Emirates   \n",
       "1     Self-supporting tower           Tokyo Skytree                 Japan   \n",
       "2  Guyed steel lattice mast            KVLY-TV mast         United States   \n",
       "3            Clock building    Abraj Al Bait Towers          Saudi Arabia   \n",
       "4                    Office  One World Trade Center         United States   \n",
       "\n",
       "                      City Height (metres)  Height (feet) Year built  \\\n",
       "0                    Dubai           828.1         2717.0       2010   \n",
       "1                    Tokyo             634         2080.0       2011   \n",
       "2  Blanchard, North Dakota           628.8         2063.0       1963   \n",
       "3                    Mecca             601         1972.0       2011   \n",
       "4             New York, NY             541         1776.0       2013   \n",
       "\n",
       "                                         Coordinates       Clean_Coordinates  \\\n",
       "0  25°11′50.0″N 55°16′26.6″E﻿ / ﻿25.197222°N 55.2...  (25.197222, 55.274056)   \n",
       "1  35°42′36.5″N 139°48′39″E﻿ / ﻿35.710139°N 139.8...  (35.710139, 139.81083)   \n",
       "2  47°20′32″N 97°17′25″W﻿ / ﻿47.34222°N 97.29028°...    (47.34222, 97.29028)   \n",
       "3  21°25′08″N 39°49′35″E﻿ / ﻿21.41889°N 39.82639°...    (21.41889, 39.82639)   \n",
       "4  40°42′46.8″N 74°0′48.6″W﻿ / ﻿40.713000°N 74.01...  (40.713000, 74.013500)   \n",
       "\n",
       "    Latitude  Longitude  \n",
       "0  25.197222  55.274056  \n",
       "1  35.710139  139.81083  \n",
       "2   47.34222   97.29028  \n",
       "3   21.41889   39.82639  \n",
       "4  40.713000  74.013500  "
      ]
     },
     "execution_count": 5,
     "metadata": {},
     "output_type": "execute_result"
    }
   ],
   "source": [
    "tallest['Clean_Coordinates'] = tallest['Coordinates'].apply(clean_lat_long)\n",
    "tallest['Latitude'] = tallest['Clean_Coordinates'].apply(lambda x:x[0])\n",
    "tallest['Longitude'] = tallest['Clean_Coordinates'].apply(lambda x:x[1])\n",
    "\n",
    "tallest.head()"
   ]
  },
  {
   "cell_type": "code",
   "execution_count": 6,
   "metadata": {},
   "outputs": [
    {
     "data": {
      "text/plain": [
       "[(25.197222, 55.274056000000009),\n",
       " (35.710138999999998, 139.81083000000001),\n",
       " (47.342220000000005, 97.29028000000001),\n",
       " (21.418890000000001, 39.826390000000004),\n",
       " (40.713000000000001, 74.013499999999993),\n",
       " (8.3784777999999989, 77.744013900000013),\n",
       " (21.419963899999999, 158.1482417),\n",
       " (3.1576249999999999, 101.71130600000001),\n",
       " (40.7616, -73.9718),\n",
       " (52.023972000000001, 75.476249999999993),\n",
       " (30.968591700000001, 35.097122200000001),\n",
       " (50.471247200000001, 30.453325),\n",
       " (29.934105600000002, 122.03614440000001),\n",
       " (52.010066700000003, 5.0535750000000004),\n",
       " (49.241677799999998, 28.423680600000004),\n",
       " (44.086102799999999, 3.0216500000000002),\n",
       " (2.4849999999999999, 59.592500000000001),\n",
       " (47.373059999999995, 19.004439999999999),\n",
       " (28.185279999999999, 101.62833000000001),\n",
       " (40.713000000000001, 74.013499999999993),\n",
       " (55.703060000000001, 37.530279999999998),\n",
       " (50.116275000000002, 7.5436055999999994),\n",
       " (40.713000000000001, 74.013499999999993),\n",
       " (33.607975000000003, 7.6328222000000006),\n",
       " (24.5347139, 76.099413900000002),\n",
       " (38.624616700000004, 90.184963900000014),\n",
       " (29.3896528, 48.003213899999999),\n",
       " (35.029897999999996, 106.557574),\n",
       " (46.1101472, 112.913556),\n",
       " (45.559313899999999, 73.552113900000009),\n",
       " (29.749849999999999, 95.080699999999993),\n",
       " (36.117401999999998, 115.168127),\n",
       " (45.069013899999995, 7.693227799999999),\n",
       " (39.952719399999999, 75.163533299999997),\n",
       " (21.5078417, 39.169733299999997),\n",
       " (48.398609999999998, 9.9918833000000014),\n",
       " (28.586011100000004, 80.650586099999998),\n",
       " (6.8111100000000002, 5.2963899999999997),\n",
       " (40.642072200000001, 4.1554440000000001),\n",
       " (18.344170000000002, 66.752780000000001),\n",
       " (40.140705600000004, 74.433286099999989),\n",
       " (29.9791472, 31.134191700000002),\n",
       " (21.46865, 39.149716699999999),\n",
       " (2.7404860000000002, 101.679069),\n",
       " (33.775149999999996, 112.451016),\n",
       " (13.819720000000002, 100.06028000000001),\n",
       " (50.313366700000003, 18.6889611),\n",
       " (48.432499999999997, 9.98278),\n",
       " (47.1996167, 12.688044400000001),\n",
       " (59.293588899999996, 18.082997199999998),\n",
       " (44.404513899999998, 8.9046305999999991),\n",
       " (14.094196999999999, 74.485163),\n",
       " (47.983193999999997, 23.700693999999999)]"
      ]
     },
     "execution_count": 6,
     "metadata": {},
     "output_type": "execute_result"
    }
   ],
   "source": [
    "lat = tallest['Latitude'].apply(pd.to_numeric)\n",
    "long = tallest['Longitude'].apply(pd.to_numeric)\n",
    "locations = list(zip(lat,long))\n",
    "\n",
    "# fix one missing data for 432 Park Avenue, New York, which was obtained by just searching on Google :)\n",
    "locations[8] = (40.7616, -73.9718)\n",
    "locations"
   ]
  },
  {
   "cell_type": "code",
   "execution_count": 7,
   "metadata": {},
   "outputs": [
    {
     "data": {
      "application/vnd.jupyter.widget-view+json": {
       "model_id": "8854dc521d5a46b2873fff8e048bc8f4"
      }
     },
     "metadata": {},
     "output_type": "display_data"
    }
   ],
   "source": [
    "fig = gmaps.figure()\n",
    "fig.add_layer(gmaps.marker_layer(locations))\n",
    "fig"
   ]
  },
  {
   "cell_type": "markdown",
   "metadata": {},
   "source": [
    "<font color=\"#ec1c24\">Notice how there are no buildings marked to the West of the GMT (except for 432 Park Avenue, New York) and to the south of the Equator? </font>"
   ]
  }
 ],
 "metadata": {
  "kernelspec": {
   "display_name": "Python 3",
   "language": "python",
   "name": "python3"
  },
  "language_info": {
   "codemirror_mode": {
    "name": "ipython",
    "version": 3
   },
   "file_extension": ".py",
   "mimetype": "text/x-python",
   "name": "python",
   "nbconvert_exporter": "python",
   "pygments_lexer": "ipython3",
   "version": "3.6.0"
  }
 },
 "nbformat": 4,
 "nbformat_minor": 2
}
