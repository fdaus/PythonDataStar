{
 "cells": [
  {
   "cell_type": "markdown",
   "metadata": {
    "collapsed": true
   },
   "source": [
    "![](http://thecads.org/wp-content/uploads/2017/02/adax_logo.jpg)\n",
    "# Module 2: Data Structures in Python\n",
    "\n",
    "## 2b. Storing Data\n",
    "\n",
    "### Contents:\n",
    "\n",
    "* [Files](#Files)\n",
    "* [JSON](#JSON)\n",
    "* [Misc](#Misc)"
   ]
  },
  {
   "cell_type": "markdown",
   "metadata": {},
   "source": [
    "## Files\n",
    "\n",
    "We will often want to read and write data to files. The standard Python API provides several methods which are convenient for dealing with ordinary text files. Read more in the [docs](https://docs.python.org/3.6/tutorial/inputoutput.html).\n",
    "\n",
    "### Writing files\n",
    "Before writing to a file, the file must be opened. This can be done with the `open()` built-in function. The following opens a file called `example_file.txt`. The parameter `'w'` indicates that the file is opened for writing. (Note: If the file already exists, it will be overwritten!)"
   ]
  },
  {
   "cell_type": "code",
   "execution_count": null,
   "metadata": {},
   "outputs": [],
   "source": [
    "%pwd"
   ]
  },
  {
   "cell_type": "code",
   "execution_count": null,
   "metadata": {
    "collapsed": true
   },
   "outputs": [],
   "source": [
    "my_file = open('example_file.txt','w')"
   ]
  },
  {
   "cell_type": "markdown",
   "metadata": {},
   "source": [
    "The variable `MyFile` is now an object of type _file_."
   ]
  },
  {
   "cell_type": "code",
   "execution_count": null,
   "metadata": {},
   "outputs": [],
   "source": [
    "print((type(my_file)))"
   ]
  },
  {
   "cell_type": "markdown",
   "metadata": {},
   "source": [
    "We can write to a file by passing strings to the file's `write()` method."
   ]
  },
  {
   "cell_type": "code",
   "execution_count": null,
   "metadata": {},
   "outputs": [],
   "source": [
    "# We can pass a string directly\n",
    "my_file.write(\"Here is some example text\\n\")\n",
    "\n",
    "# More often, we want to write data from our Python program to file.\n",
    "n = 5\n",
    "example_string = \"The value of n is %d.\\n\"%n\n",
    "my_file.write(example_string)\n",
    "\n",
    "# Here, we write to a file from within a loop\n",
    "my_file.write(\"\\nAnd now, the lyrics to 99 bottles of wine:\\n\")\n",
    "for nbottles in range(99, 0, -1):\n",
    "    line = \"%d bottles of wine on the wall. %d bottles of wine. You take one down, pass it around, %d bottles of wine on the wall!\\n\"%(nbottles,nbottles,nbottles-1)\n",
    "    my_file.write(line)\n",
    "    \n",
    "# Important! You must call close() to before opening the file in another program.\n",
    "my_file.close()"
   ]
  },
  {
   "cell_type": "markdown",
   "metadata": {},
   "source": [
    "Using your OS's file manager (Explorer for Windows, Finder for OSX), locate the file and open it in a text editor. You can also open it in an IPython notebook using your web browser. Verify that the contents make sense by comparing them to the code above.\n",
    "\n",
    "### Reading files\n",
    "Let's read the file in Python. Again, we will use the `open()` function, this time with the `'r'` parameter to indicate that we are reading."
   ]
  },
  {
   "cell_type": "code",
   "execution_count": null,
   "metadata": {},
   "outputs": [],
   "source": [
    "# Again the open() function gives us a variable of type 'file'\n",
    "input_file = open('example_file.txt','r')\n",
    "\n",
    "# The read() function puts the contents of the file into a string object\n",
    "file_contents = input_file.read()\n",
    "\n",
    "# Close the file when you're done with it!\n",
    "input_file.close()\n",
    "\n",
    "# Let's see what we got\n",
    "print(file_contents)"
   ]
  },
  {
   "cell_type": "markdown",
   "metadata": {
    "collapsed": true
   },
   "source": [
    "### Parsing\n",
    "It will often be necessary to \"parse\" the contents of a file. This means we will extract information from the string into Python variables that we can operate on. When the file was not designed to be parsed conveniently, this can get messy!\n",
    "\n",
    "As an example, let's find all of the lines where the number of bottles of beer is a multiple of 7. Instead of reading the entire file all-at-once, in this example we'll read it line-by-line. This is done using the `readline()` function. Each time `readline()` is called, the next line from the file is returned.\n",
    "\n",
    "We can also iterate over the lines from our current position to the end of file using the `readlines()` method."
   ]
  },
  {
   "cell_type": "code",
   "execution_count": null,
   "metadata": {},
   "outputs": [],
   "source": [
    "input_file = open('example_file.txt','r')\n",
    "\n",
    "# Throw away the first 4 lines\n",
    "# Notice that we are reading the first 4 lines but we are not doing anything with them\n",
    "# Using the _ name is a Python convention for a variable name that we are not going to use\n",
    "for j in range(4):\n",
    "    _ = input_file.readline()\n",
    "    \n",
    "# Iterate over remaining lines\n",
    "for line in input_file.readlines():\n",
    "    \n",
    "    # Action: think about this line. How does it work?\n",
    "    nbottles = int(line.split()[0])\n",
    "    \n",
    "    # Check if nbottles is a multiple of 7\n",
    "    if nbottles % 7 == 0:\n",
    "        print(nbottles)\n",
    "        \n",
    "input_file.close()"
   ]
  },
  {
   "cell_type": "markdown",
   "metadata": {},
   "source": [
    "It's very important to call `close()` when you're done working with a file. An alternative way is using the `with...as` construction. This is identical to the previous example, and it is safer because it does not require you to remember to close the file. "
   ]
  },
  {
   "cell_type": "code",
   "execution_count": null,
   "metadata": {},
   "outputs": [],
   "source": [
    "with open('new_output_file.txt','w') as output_file:\n",
    "    with open('example_file.txt','r') as input_file:\n",
    "        # we indend code inside the with block\n",
    "        print((\"File closed? \", input_file.closed))\n",
    "\n",
    "        # Throw away the first 4 lines\n",
    "        # Notice that we are reading the first 4 lines but we are not doing anything with them\n",
    "        # Using the _ name is a Python convention for a variable name that we are not going to use\n",
    "        for j in range(4):\n",
    "            _ = input_file.readline()\n",
    "\n",
    "        # Iterate over remaining lines\n",
    "        for line in input_file.readlines():\n",
    "            nbottles = int(line.split()[0])\n",
    "\n",
    "            # Check if nbottles is a multiple of 7\n",
    "            if nbottles % 7 == 0:\n",
    "                print(nbottles)\n",
    "                output_file.write('%d\\n'%(nbottles))\n",
    "\n",
    "# input_file is closed automatically once the with block ends\n",
    "# input_file will be closed even if there's an error inside the with block\n",
    "# Using \"with ... as\" makes are programs more robust\n",
    "\n",
    "# confirm that the file is indeed closed\n",
    "print((\"File closed? \", input_file.closed))"
   ]
  },
  {
   "cell_type": "markdown",
   "metadata": {},
   "source": [
    "## JSON\n",
    "\n",
    "JSON stands for **JavaScript Object notation** and is an open standard human readable data format. Many APIs work with JSON format to provide and receive data. Popular alternatives to JSON are YAML and XML.\n",
    "\n",
    "An empty JSON file simply contains two curly braces {}. The following example describes some basic value definitions. Multiple value statements in JSON are separated by a comma sign.\n",
    "\n",
    "```python\n",
    "{\n",
    "    “text key”: “string”,\n",
    "    “integer key”: 123,\n",
    "    “boolean key”: true,\n",
    "    “simple list”: [\n",
    "        “value 1”,\n",
    "        “value 2”\n",
    "    ],\n",
    "    “dict”: {\n",
    "        “element 1”: “value 1”,\n",
    "        “element 2”: “value 2”\n",
    "    },\n",
    "    “dict list”: [\n",
    "        {\n",
    "            “key 1.1”: “value 1.1”,\n",
    "            “key 1.2”: “value 1.2”\n",
    "        },\n",
    "        {\n",
    "            “key 2.1”: “value 2.1”,\n",
    "            “key 2.2”: “value 2.2”\n",
    "        }\n",
    "    ]\n",
    "}\n",
    "```\n",
    "\n",
    "JSON notations are quite similar to the value definitions within a python dictionary."
   ]
  },
  {
   "cell_type": "code",
   "execution_count": null,
   "metadata": {},
   "outputs": [],
   "source": [
    "import json\n",
    "# you can also use the open function to read the content of a JSON file to a string\n",
    "\n",
    "json_data = \"\"\" {\n",
    "    \"key 1\": \"value 1\",\n",
    "    \"key 2\": \"value 2\",\n",
    "    \"decimal\": 10,\n",
    "    \"boolean\": true,\n",
    "    \"list\": [1, 2, 3],\n",
    "    \"dictionary\": {\n",
    "        \"child key 1\": \"child value\",\n",
    "        \"child key 1\": \"child value\"\n",
    "    }\n",
    "}\"\"\"\n",
    "   \n",
    "\n",
    "my_dict=json.loads(json_data)\n"
   ]
  },
  {
   "cell_type": "code",
   "execution_count": null,
   "metadata": {},
   "outputs": [],
   "source": [
    "# Now you can work with the data as with regular python dictionaries.\n",
    "\n",
    "print(\"string value: %s\" % my_dict[\"key 1\"])\n",
    "print(\"decimal value: %d\" % my_dict[\"decimal\"])\n",
    "print(\"decimal value: %r\" % my_dict[\"boolean\"])\n",
    "print(\"list values: %s\" % my_dict[\"list\"])"
   ]
  },
  {
   "cell_type": "code",
   "execution_count": null,
   "metadata": {},
   "outputs": [],
   "source": [
    "# dumps() function to create a JSON formatted string from a dictionary\n",
    "\n",
    "import json\n",
    " \n",
    "my_dictionary = {\n",
    "    \"key 1\": \"Value 1\",\n",
    "    \"key 2\": \"Value 2\",\n",
    "    \"decimal\": 100,\n",
    "    \"boolean\": False,\n",
    "    \"list\": [1, 2, 3],\n",
    "    \"dict\": {\n",
    "        \"child key 1\": \"value 1\",\n",
    "        \"child key 2\": \"value 2\"\n",
    "    }\n",
    "}\n",
    "print(type(my_dictionary)) \n",
    "print(json.dumps(my_dictionary))\n",
    "print(my_dictionary['list'])"
   ]
  },
  {
   "cell_type": "markdown",
   "metadata": {},
   "source": [
    "Of course we would like this to be \"dumped\" to a JSON data file..."
   ]
  },
  {
   "cell_type": "code",
   "execution_count": null,
   "metadata": {},
   "outputs": [],
   "source": [
    "with open('sample_data.json', 'w') as outfile:\n",
    "    json.dump(my_dictionary, outfile)"
   ]
  },
  {
   "cell_type": "markdown",
   "metadata": {},
   "source": [
    "## Misc\n",
    "\n",
    "### Running python from terminal "
   ]
  },
  {
   "cell_type": "markdown",
   "metadata": {},
   "source": [
    "Python programs `(.py)` can be run at the terminal, with the incorporation of command line arguments. Basically, we can turn out python codes into executables that function like commands. "
   ]
  },
  {
   "cell_type": "code",
   "execution_count": null,
   "metadata": {},
   "outputs": [],
   "source": [
    "import sys # import modules used here -- sys is a very standard one\n",
    "\n",
    "def main():\n",
    "    print(('hello world ', sys.argv[1]))\n",
    "    # Command line args are in sys.argv[1], sys.argv[2] ...\n",
    "    # sys.argv[0] is the script name itself and can be ignored\n",
    "    \n",
    "# Standard boilerplate to call the main() function to begin\n",
    "# the program.    \n",
    "if __name__ == '__main__':\n",
    "    main()"
   ]
  },
  {
   "cell_type": "markdown",
   "metadata": {
    "collapsed": true
   },
   "source": [
    "### Variable Scope: global, local\n",
    "\n",
    "Variables that are defined inside a function body have a local scope, and those defined outside have a global scope."
   ]
  },
  {
   "cell_type": "code",
   "execution_count": null,
   "metadata": {},
   "outputs": [],
   "source": [
    "total = 0; # This is a global variable.\n",
    "def f( arg1, arg2 ):\n",
    "    total = arg1 + arg2; # Here total is a local variable.\n",
    "    print((\"Inside the function local total : \", total))\n",
    "    return total;\n",
    "\n",
    "f( 10, 20 );\n",
    "print((\"Outside the function global total : \", total))"
   ]
  },
  {
   "cell_type": "code",
   "execution_count": null,
   "metadata": {
    "collapsed": true
   },
   "outputs": [],
   "source": []
  }
 ],
 "metadata": {
  "anaconda-cloud": {},
  "kernelspec": {
   "display_name": "Python 3",
   "language": "python",
   "name": "python3"
  },
  "language_info": {
   "codemirror_mode": {
    "name": "ipython",
    "version": 3
   },
   "file_extension": ".py",
   "mimetype": "text/x-python",
   "name": "python",
   "nbconvert_exporter": "python",
   "pygments_lexer": "ipython3",
   "version": "3.6.1"
  }
 },
 "nbformat": 4,
 "nbformat_minor": 1
}
